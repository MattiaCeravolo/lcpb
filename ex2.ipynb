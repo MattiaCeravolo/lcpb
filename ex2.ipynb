{
 "cells": [
  {
   "cell_type": "markdown",
   "metadata": {},
   "source": [
    "# Part 1"
   ]
  },
  {
   "cell_type": "markdown",
   "metadata": {},
   "source": [
    "### Packages"
   ]
  },
  {
   "cell_type": "code",
   "execution_count": 4,
   "metadata": {},
   "outputs": [],
   "source": [
    "import numpy as np\n",
    "import matplotlib.pyplot as plt\n",
    "\n",
    "from keras.models import Sequential\n",
    "from keras.layers import Dense, Dropout\n",
    "from keras.optimizers import SGD\n",
    "\n",
    "import time\n",
    "import math"
   ]
  },
  {
   "cell_type": "markdown",
   "metadata": {},
   "source": [
    "### Data (strings) and splitting"
   ]
  },
  {
   "cell_type": "code",
   "execution_count": 5,
   "metadata": {},
   "outputs": [
    {
     "name": "stdout",
     "output_type": "stream",
     "text": [
      "3000\n",
      "16\n",
      "AAGGTCTGCCGGCCGA 1\n",
      "\n",
      "data: 3000\n",
      "train: 2400\n",
      "test: 600\n"
     ]
    }
   ],
   "source": [
    "fname=\"sequences16.csv\"\n",
    "sx, sy = np.loadtxt(fname,delimiter = \",\",\n",
    "                    usecols=(0,1), unpack=True, dtype=str)\n",
    "\n",
    "N=len(sy)\n",
    "print(N)\n",
    "\n",
    "Ls=len(sx[0])\n",
    "print(Ls)\n",
    "\n",
    "print(sx[0],sy[0])\n",
    "\n",
    "perc_train=0.8\n",
    "N_train=int(N*perc_train)\n",
    "N_test=N-N_train\n",
    "\n",
    "print(f'\\ndata: {N}\\ntrain: {N_train}\\ntest: {N_test}')"
   ]
  },
  {
   "cell_type": "code",
   "execution_count": 6,
   "metadata": {},
   "outputs": [
    {
     "name": "stdout",
     "output_type": "stream",
     "text": [
      "{'A': 0, 'C': 1, 'G': 2, 'T': 3}\n"
     ]
    }
   ],
   "source": [
    "#hot encoding to associate each character to a sequence of 0 and 1\n",
    "Q = [\"A\",\"C\",\"G\",\"T\"]\n",
    "Nc=4\n",
    "onehc={Q[i]:i for i in range(Nc)} #one hot encoding\n",
    "print(onehc)"
   ]
  },
  {
   "cell_type": "markdown",
   "metadata": {},
   "source": [
    "### Data conversion"
   ]
  },
  {
   "cell_type": "code",
   "execution_count": 7,
   "metadata": {},
   "outputs": [
    {
     "name": "stdout",
     "output_type": "stream",
     "text": [
      "64\n",
      "[0. 0. 0. 0. 0. 0. 0. 0. 0. 0. 0. 0. 0. 0. 0. 0. 0. 0. 0. 0. 0. 0. 0. 0.\n",
      " 0. 0. 0. 0. 0. 0. 0. 0. 0. 0. 0. 0. 0. 0. 0. 0. 0. 0. 0. 0. 0. 0. 0. 0.\n",
      " 0. 0. 0. 0. 0. 0. 0. 0. 0. 0. 0. 0. 0. 0. 0. 0.]\n",
      "AAGGTCTGCCGGCCGA\n",
      "[1. 0. 0. 0. 1. 0. 0. 0. 0. 0. 1. 0. 0. 0. 1. 0. 0. 0. 0. 1. 0. 1. 0. 0.\n",
      " 0. 0. 0. 1. 0. 0. 1. 0. 0. 1. 0. 0. 0. 1. 0. 0. 0. 0. 1. 0. 0. 0. 1. 0.\n",
      " 0. 1. 0. 0. 0. 1. 0. 0. 0. 0. 1. 0. 1. 0. 0. 0.]\n"
     ]
    }
   ],
   "source": [
    "y = sy.astype(int)\n",
    "\n",
    "L = Ls*Nc\n",
    "print(L) #length of input layer\n",
    "\n",
    "x = np.zeros((N,L)) #every row is an input\n",
    "print(x[0])\n",
    "\n",
    "for n in range(N): #for each sample\n",
    "    for i in range(Ls): #for each character\n",
    "        x[n][i*4 + onehc[sx[n][i]]] = 1\n",
    "        \n",
    "print(sx[0])\n",
    "print(x[0])  \n",
    "#hot encoding works (??????)"
   ]
  },
  {
   "cell_type": "markdown",
   "metadata": {},
   "source": [
    "### Split Train/Test-Validation"
   ]
  },
  {
   "cell_type": "code",
   "execution_count": 8,
   "metadata": {},
   "outputs": [
    {
     "name": "stdout",
     "output_type": "stream",
     "text": [
      "Fraction of data=1 in the training: 0.24333333333333335\n",
      "Fraction of data=1 in the test: 0.25833333333333336\n"
     ]
    }
   ],
   "source": [
    "(x_train,y_train) = (x[:N_train],y[:N_train]) #TRAINING SET\n",
    "(x_test,y_test)  = (x[N_train:],y[N_train:]) #TEST SET\n",
    "\n",
    "print(\"Fraction of data=1 in the training:\",y_train.sum()/N_train)\n",
    "print(\"Fraction of data=1 in the test:\",y_test.sum()/N_test)\n",
    "#They are very similar"
   ]
  },
  {
   "cell_type": "markdown",
   "metadata": {},
   "source": [
    "### Definition of model in keras"
   ]
  },
  {
   "cell_type": "code",
   "execution_count": 9,
   "metadata": {},
   "outputs": [
    {
     "name": "stdout",
     "output_type": "stream",
     "text": [
      "Model: \"sequential\"\n",
      "_________________________________________________________________\n",
      "Layer (type)                 Output Shape              Param #   \n",
      "=================================================================\n",
      "dense (Dense)                (None, 64)                4160      \n",
      "_________________________________________________________________\n",
      "dense_1 (Dense)              (None, 32)                2080      \n",
      "_________________________________________________________________\n",
      "dense_2 (Dense)              (None, 16)                528       \n",
      "_________________________________________________________________\n",
      "dropout (Dropout)            (None, 16)                0         \n",
      "_________________________________________________________________\n",
      "dense_3 (Dense)              (None, 1)                 17        \n",
      "=================================================================\n",
      "Total params: 6,785\n",
      "Trainable params: 6,785\n",
      "Non-trainable params: 0\n",
      "_________________________________________________________________\n",
      "None\n"
     ]
    }
   ],
   "source": [
    "np.random.seed(123)\n",
    "\n",
    "model = Sequential()\n",
    "\n",
    "#I choose narrower dimensions of layers in my model (that's my choice)\n",
    "#also activation is my choice\n",
    "model.add(Dense(L,input_shape=(L,),activation=\"relu\")) #set input layer of shape (1,0)\n",
    "model.add(Dense(L/2,activation=\"relu\"))\n",
    "model.add(Dense(L/4,activation=\"relu\"))\n",
    "model.add(Dropout(0.2)) #drop non active nodes in the last layer(?)\n",
    "\n",
    "#now I change the activation function because I want a prediciton as a probability of being 1\n",
    "model.add(Dense(1,activation=\"sigmoid\")) #OUTPUT\n",
    "\n",
    "\n",
    "print(model.summary())"
   ]
  },
  {
   "cell_type": "markdown",
   "metadata": {},
   "source": [
    "### Optimization"
   ]
  },
  {
   "cell_type": "code",
   "execution_count": 10,
   "metadata": {},
   "outputs": [],
   "source": [
    "opt1 = SGD(learning_rate=0.1,\n",
    "           momentum=0.9,\n",
    "           nesterov=True) \n",
    "\n",
    "model.compile(loss=\"binary_crossentropy\", #check what it is\n",
    "             optimizer=opt1, #\"adam\"\n",
    "             metrics=['accuracy']) \n"
   ]
  },
  {
   "cell_type": "code",
   "execution_count": 11,
   "metadata": {},
   "outputs": [
    {
     "name": "stdout",
     "output_type": "stream",
     "text": [
      "Epoch 1/30\n",
      "48/48 [==============================] - 1s 10ms/step - loss: 0.5659 - accuracy: 0.7449 - val_loss: 0.5119 - val_accuracy: 0.7417\n",
      "Epoch 2/30\n",
      "48/48 [==============================] - 1s 14ms/step - loss: 0.4689 - accuracy: 0.7776 - val_loss: 0.5106 - val_accuracy: 0.7550\n",
      "Epoch 3/30\n",
      "48/48 [==============================] - 0s 4ms/step - loss: 0.4446 - accuracy: 0.7815 - val_loss: 0.5250 - val_accuracy: 0.7433\n",
      "Epoch 4/30\n",
      "48/48 [==============================] - 0s 4ms/step - loss: 0.4396 - accuracy: 0.7850 - val_loss: 0.4962 - val_accuracy: 0.7500\n",
      "Epoch 5/30\n",
      "48/48 [==============================] - 0s 4ms/step - loss: 0.3544 - accuracy: 0.8517 - val_loss: 0.5062 - val_accuracy: 0.7683\n",
      "Epoch 6/30\n",
      "48/48 [==============================] - 0s 4ms/step - loss: 0.3185 - accuracy: 0.8694 - val_loss: 0.5049 - val_accuracy: 0.7433\n",
      "Epoch 7/30\n",
      "48/48 [==============================] - 0s 6ms/step - loss: 0.2836 - accuracy: 0.8885 - val_loss: 0.4912 - val_accuracy: 0.7800\n",
      "Epoch 8/30\n",
      "48/48 [==============================] - 0s 4ms/step - loss: 0.2192 - accuracy: 0.9151 - val_loss: 0.5178 - val_accuracy: 0.7633\n",
      "Epoch 9/30\n",
      "48/48 [==============================] - 0s 4ms/step - loss: 0.1917 - accuracy: 0.9281 - val_loss: 0.5955 - val_accuracy: 0.7833\n",
      "Epoch 10/30\n",
      "48/48 [==============================] - 0s 5ms/step - loss: 0.1649 - accuracy: 0.9337 - val_loss: 0.5724 - val_accuracy: 0.7883\n",
      "Epoch 11/30\n",
      "48/48 [==============================] - 0s 4ms/step - loss: 0.1532 - accuracy: 0.9474 - val_loss: 0.5996 - val_accuracy: 0.7767\n",
      "Epoch 12/30\n",
      "48/48 [==============================] - 0s 4ms/step - loss: 0.1303 - accuracy: 0.9531 - val_loss: 0.6853 - val_accuracy: 0.7833\n",
      "Epoch 13/30\n",
      "48/48 [==============================] - 0s 4ms/step - loss: 0.1427 - accuracy: 0.9509 - val_loss: 0.7291 - val_accuracy: 0.7783\n",
      "Epoch 14/30\n",
      "48/48 [==============================] - 0s 7ms/step - loss: 0.1043 - accuracy: 0.9614 - val_loss: 0.7133 - val_accuracy: 0.8067\n",
      "Epoch 15/30\n",
      "48/48 [==============================] - 0s 8ms/step - loss: 0.0760 - accuracy: 0.9739 - val_loss: 0.8556 - val_accuracy: 0.7917\n",
      "Epoch 16/30\n",
      "48/48 [==============================] - 1s 12ms/step - loss: 0.0787 - accuracy: 0.9709 - val_loss: 0.7265 - val_accuracy: 0.7817\n",
      "Epoch 17/30\n",
      "48/48 [==============================] - 0s 7ms/step - loss: 0.1122 - accuracy: 0.9565 - val_loss: 0.8755 - val_accuracy: 0.7883\n",
      "Epoch 18/30\n",
      "48/48 [==============================] - 0s 6ms/step - loss: 0.0562 - accuracy: 0.9820 - val_loss: 0.9670 - val_accuracy: 0.7717\n",
      "Epoch 19/30\n",
      "48/48 [==============================] - 0s 4ms/step - loss: 0.0496 - accuracy: 0.9839 - val_loss: 0.9550 - val_accuracy: 0.7967\n",
      "Epoch 20/30\n",
      "48/48 [==============================] - 0s 4ms/step - loss: 0.0431 - accuracy: 0.9861 - val_loss: 0.8789 - val_accuracy: 0.7850\n",
      "Epoch 21/30\n",
      "48/48 [==============================] - 0s 4ms/step - loss: 0.0392 - accuracy: 0.9861 - val_loss: 1.1791 - val_accuracy: 0.7900\n",
      "Epoch 22/30\n",
      "48/48 [==============================] - 0s 9ms/step - loss: 0.0334 - accuracy: 0.9891 - val_loss: 1.2672 - val_accuracy: 0.7900\n",
      "Epoch 23/30\n",
      "48/48 [==============================] - 1s 11ms/step - loss: 0.0176 - accuracy: 0.9942 - val_loss: 1.2165 - val_accuracy: 0.8000\n",
      "Epoch 24/30\n",
      "48/48 [==============================] - 0s 5ms/step - loss: 0.0396 - accuracy: 0.9870 - val_loss: 1.0483 - val_accuracy: 0.7933\n",
      "Epoch 25/30\n",
      "48/48 [==============================] - 0s 6ms/step - loss: 0.0436 - accuracy: 0.9808 - val_loss: 1.2195 - val_accuracy: 0.7983\n",
      "Epoch 26/30\n",
      "48/48 [==============================] - 0s 4ms/step - loss: 0.0268 - accuracy: 0.9918 - val_loss: 1.2797 - val_accuracy: 0.7950\n",
      "Epoch 27/30\n",
      "48/48 [==============================] - 0s 5ms/step - loss: 0.0524 - accuracy: 0.9801 - val_loss: 1.0226 - val_accuracy: 0.7900\n",
      "Epoch 28/30\n",
      "48/48 [==============================] - 0s 4ms/step - loss: 0.0221 - accuracy: 0.9928 - val_loss: 1.3707 - val_accuracy: 0.7783\n",
      "Epoch 29/30\n",
      "48/48 [==============================] - 0s 5ms/step - loss: 0.0375 - accuracy: 0.9878 - val_loss: 1.3535 - val_accuracy: 0.8017\n",
      "Epoch 30/30\n",
      "48/48 [==============================] - 0s 5ms/step - loss: 0.0349 - accuracy: 0.9892 - val_loss: 1.3833 - val_accuracy: 0.8133\n"
     ]
    }
   ],
   "source": [
    "fit = model.fit(x_train, y_train, \n",
    "               epochs=30, batch_size=50,\n",
    "               validation_data=(x_test,y_test),\n",
    "                shuffle=True)"
   ]
  },
  {
   "cell_type": "code",
   "execution_count": 12,
   "metadata": {},
   "outputs": [
    {
     "name": "stdout",
     "output_type": "stream",
     "text": [
      "19/19 [==============================] - 0s 3ms/step - loss: 1.3833 - accuracy: 0.8133\n",
      "\n",
      "Test loss: 1.3833125829696655\n",
      "Test accuracy: 0.8133333325386047\n"
     ]
    },
    {
     "data": {
      "image/png": "[encoded data removed]",
      "text/plain": [
       "<Figure size 432x288 with 1 Axes>"
      ]
     },
     "metadata": {
      "needs_background": "light"
     },
     "output_type": "display_data"
    },
    {
     "data": {
      "image/png": "[encoded data removed]",
      "text/plain": [
       "<Figure size 432x288 with 1 Axes>"
      ]
     },
     "metadata": {
      "needs_background": "light"
     },
     "output_type": "display_data"
    }
   ],
   "source": [
    "#Plot the results\n",
    "\n",
    "score = model.evaluate(x_test, y_test, verbose=1)\n",
    "\n",
    "# print performance\n",
    "print()\n",
    "print('Test loss:', score[0])\n",
    "print('Test accuracy:', score[1])\n",
    "# look into training history\n",
    "\n",
    "# summarize history for accuracy\n",
    "plt.plot(fit.history['accuracy'])\n",
    "plt.plot(fit.history['val_accuracy'])\n",
    "plt.ylabel('model accuracy')\n",
    "plt.xlabel('epoch')\n",
    "plt.legend(['train', 'test'], loc='best')\n",
    "plt.show()\n",
    "\n",
    "# summarize history for loss\n",
    "plt.plot(fit.history['loss'])\n",
    "plt.plot(fit.history['val_loss'])\n",
    "plt.ylabel('model loss')\n",
    "plt.xlabel('epoch')\n",
    "plt.legend(['train', 'test'], loc='best')\n",
    "plt.show()"
   ]
  },
  {
   "cell_type": "markdown",
   "metadata": {},
   "source": [
    "# Part 2"
   ]
  },
  {
   "cell_type": "code",
   "execution_count": 13,
   "metadata": {},
   "outputs": [],
   "source": [
    "x_train_reshape = x_train.reshape(x_train.shape[0], int(x_train.shape[1]/4), 4)\n",
    "\n",
    "new_x_train=[]\n",
    "new_y_train=[]\n",
    "\n",
    "for j in range(x_train_reshape.shape[0]):\n",
    "    for i in range(x_train_reshape[j].shape[0]):\n",
    "        new_x_train.append(np.concatenate((x_train_reshape[j][i:],x_train_reshape[j][:i])))\n",
    "        new_y_train.append(y_train[j])\n",
    "\n",
    "new_y_train = np.array(new_y_train)\n",
    "new_x_train = np.array(new_x_train).reshape(x_train.shape[0]*16, x_train.shape[1])"
   ]
  },
  {
   "cell_type": "code",
   "execution_count": 14,
   "metadata": {},
   "outputs": [
    {
     "name": "stdout",
     "output_type": "stream",
     "text": [
      "Epoch 1/30\n",
      "768/768 [==============================] - 2s 2ms/step - loss: 0.4248 - accuracy: 0.8111 - val_loss: 0.3416 - val_accuracy: 0.8350\n",
      "Epoch 2/30\n",
      "768/768 [==============================] - 2s 3ms/step - loss: 0.3408 - accuracy: 0.8536 - val_loss: 0.3229 - val_accuracy: 0.8483\n",
      "Epoch 3/30\n",
      "768/768 [==============================] - 2s 3ms/step - loss: 0.3033 - accuracy: 0.8771 - val_loss: 0.3206 - val_accuracy: 0.8783\n",
      "Epoch 4/30\n",
      "768/768 [==============================] - 2s 2ms/step - loss: 0.2765 - accuracy: 0.8936 - val_loss: 0.2806 - val_accuracy: 0.8900\n",
      "Epoch 5/30\n",
      "768/768 [==============================] - 2s 3ms/step - loss: 0.2589 - accuracy: 0.9020 - val_loss: 0.2831 - val_accuracy: 0.8967\n",
      "Epoch 6/30\n",
      "768/768 [==============================] - 3s 3ms/step - loss: 0.2448 - accuracy: 0.9112 - val_loss: 0.2543 - val_accuracy: 0.9100\n",
      "Epoch 7/30\n",
      "768/768 [==============================] - 3s 4ms/step - loss: 0.2296 - accuracy: 0.9185 - val_loss: 0.2520 - val_accuracy: 0.9167\n",
      "Epoch 8/30\n",
      "768/768 [==============================] - 2s 3ms/step - loss: 0.2154 - accuracy: 0.9246 - val_loss: 0.2103 - val_accuracy: 0.9233\n",
      "Epoch 9/30\n",
      "768/768 [==============================] - 1s 2ms/step - loss: 0.2032 - accuracy: 0.9308 - val_loss: 0.2283 - val_accuracy: 0.9233\n",
      "Epoch 10/30\n",
      "768/768 [==============================] - 1s 2ms/step - loss: 0.1931 - accuracy: 0.9348 - val_loss: 0.1666 - val_accuracy: 0.9433\n",
      "Epoch 11/30\n",
      "768/768 [==============================] - 3s 3ms/step - loss: 0.1813 - accuracy: 0.9403 - val_loss: 0.1803 - val_accuracy: 0.9467\n",
      "Epoch 12/30\n",
      "768/768 [==============================] - 2s 3ms/step - loss: 0.1748 - accuracy: 0.9428 - val_loss: 0.1769 - val_accuracy: 0.9450\n",
      "Epoch 13/30\n",
      "768/768 [==============================] - 2s 3ms/step - loss: 0.1670 - accuracy: 0.9452 - val_loss: 0.1758 - val_accuracy: 0.9450\n",
      "Epoch 14/30\n",
      "768/768 [==============================] - 2s 3ms/step - loss: 0.1629 - accuracy: 0.9468 - val_loss: 0.1550 - val_accuracy: 0.9483\n",
      "Epoch 15/30\n",
      "768/768 [==============================] - 2s 2ms/step - loss: 0.1560 - accuracy: 0.9484 - val_loss: 0.1480 - val_accuracy: 0.9483\n",
      "Epoch 16/30\n",
      "768/768 [==============================] - 2s 3ms/step - loss: 0.1555 - accuracy: 0.9485 - val_loss: 0.1516 - val_accuracy: 0.9500\n",
      "Epoch 17/30\n",
      "768/768 [==============================] - 2s 2ms/step - loss: 0.1514 - accuracy: 0.9499 - val_loss: 0.1411 - val_accuracy: 0.9550\n",
      "Epoch 18/30\n",
      "768/768 [==============================] - 2s 2ms/step - loss: 0.1503 - accuracy: 0.9500 - val_loss: 0.1466 - val_accuracy: 0.9533\n",
      "Epoch 19/30\n",
      "768/768 [==============================] - 2s 3ms/step - loss: 0.1459 - accuracy: 0.9505 - val_loss: 0.1496 - val_accuracy: 0.9500\n",
      "Epoch 20/30\n",
      "768/768 [==============================] - 3s 3ms/step - loss: 0.1457 - accuracy: 0.9507 - val_loss: 0.1548 - val_accuracy: 0.9517\n",
      "Epoch 21/30\n",
      "768/768 [==============================] - 3s 4ms/step - loss: 0.1424 - accuracy: 0.9519 - val_loss: 0.1751 - val_accuracy: 0.9383\n",
      "Epoch 22/30\n",
      "768/768 [==============================] - 3s 4ms/step - loss: 0.1425 - accuracy: 0.9511 - val_loss: 0.1416 - val_accuracy: 0.9517\n",
      "Epoch 23/30\n",
      "768/768 [==============================] - 4s 5ms/step - loss: 0.1405 - accuracy: 0.9516 - val_loss: 0.1393 - val_accuracy: 0.9550\n",
      "Epoch 24/30\n",
      "768/768 [==============================] - 3s 4ms/step - loss: 0.1385 - accuracy: 0.9526 - val_loss: 0.1421 - val_accuracy: 0.9567\n",
      "Epoch 25/30\n",
      "768/768 [==============================] - 2s 3ms/step - loss: 0.1378 - accuracy: 0.9529 - val_loss: 0.1835 - val_accuracy: 0.9483\n",
      "Epoch 26/30\n",
      "768/768 [==============================] - 2s 3ms/step - loss: 0.1358 - accuracy: 0.9529 - val_loss: 0.1732 - val_accuracy: 0.9467\n",
      "Epoch 27/30\n",
      "768/768 [==============================] - 4s 5ms/step - loss: 0.1379 - accuracy: 0.9522 - val_loss: 0.1630 - val_accuracy: 0.9533\n",
      "Epoch 28/30\n",
      "768/768 [==============================] - 3s 4ms/step - loss: 0.1351 - accuracy: 0.9530 - val_loss: 0.1515 - val_accuracy: 0.9450\n",
      "Epoch 29/30\n",
      "768/768 [==============================] - 3s 4ms/step - loss: 0.1344 - accuracy: 0.9525 - val_loss: 0.1396 - val_accuracy: 0.9500\n",
      "Epoch 30/30\n",
      "768/768 [==============================] - 3s 4ms/step - loss: 0.1330 - accuracy: 0.9539 - val_loss: 0.1664 - val_accuracy: 0.9517\n"
     ]
    }
   ],
   "source": [
    "fit_new = model.fit(new_x_train, new_y_train, \n",
    "                    epochs=30, batch_size=50,\n",
    "                    validation_data=(x_test,y_test),\n",
    "                    shuffle=True)"
   ]
  },
  {
   "cell_type": "code",
   "execution_count": 15,
   "metadata": {},
   "outputs": [
    {
     "name": "stdout",
     "output_type": "stream",
     "text": [
      "19/19 [==============================] - 0s 2ms/step - loss: 0.1664 - accuracy: 0.9517\n",
      "\n",
      "Test loss: 0.1664232313632965\n",
      "Test accuracy: 0.9516666531562805\n"
     ]
    },
    {
     "data": {
      "image/png": "[encoded data removed]",
      "text/plain": [
       "<Figure size 432x288 with 1 Axes>"
      ]
     },
     "metadata": {
      "needs_background": "light"
     },
     "output_type": "display_data"
    },
    {
     "data": {
      "image/png": "[encoded data removed]",
      "text/plain": [
       "<Figure size 432x288 with 1 Axes>"
      ]
     },
     "metadata": {
      "needs_background": "light"
     },
     "output_type": "display_data"
    }
   ],
   "source": [
    "#Plot the results\n",
    "\n",
    "score = model.evaluate(x_test, y_test, verbose=1)\n",
    "\n",
    "# print performance\n",
    "print()\n",
    "print('Test loss:', score[0])\n",
    "print('Test accuracy:', score[1])\n",
    "# look into training history\n",
    "\n",
    "# summarize history for accuracy\n",
    "plt.plot(fit_new.history['accuracy'])\n",
    "plt.plot(fit_new.history['val_accuracy'])\n",
    "plt.ylabel('model accuracy')\n",
    "plt.xlabel('epoch')\n",
    "plt.legend(['train', 'test'], loc='best')\n",
    "plt.show()\n",
    "\n",
    "# summarize history for loss\n",
    "plt.plot(fit_new.history['loss'])\n",
    "plt.plot(fit_new.history['val_loss'])\n",
    "plt.ylabel('model loss')\n",
    "plt.xlabel('epoch')\n",
    "plt.legend(['train', 'test'], loc='best')\n",
    "plt.show()"
   ]
  },
  {
   "cell_type": "markdown",
   "metadata": {},
   "source": [
    "# Part 3"
   ]
  },
  {
   "cell_type": "code",
   "execution_count": 16,
   "metadata": {},
   "outputs": [],
   "source": [
    "def compile_model(optimizer=\"adam\",activation=\"relu\",dropout_rate=0.2):\n",
    "    # create the mode\n",
    "    model = Sequential()\n",
    "    model.add(Dense(L,input_shape=(L,),activation=activation)) \n",
    "    model.add(Dense(L/2,activation=activation))\n",
    "    model.add(Dense(L/4,activation=activation))\n",
    "    model.add(Dropout(dropout_rate))\n",
    "    model.add(Dense(1,activation=\"sigmoid\")) \n",
    "    # compile the model\n",
    "    model.compile(loss=\"binary_crossentropy\",\n",
    "                  optimizer=optimizer,\n",
    "                  metrics=['accuracy'])\n",
    "    return model"
   ]
  },
  {
   "cell_type": "code",
   "execution_count": 18,
   "metadata": {
    "tags": [
     "outputPrepend"
    ]
   },
   "outputs": [
    {
     "name": "stdout",
     "output_type": "stream",
     "text": [
      "576/576 [==============================] - 2s 2ms/step - loss: 0.5226 - accuracy: 0.7557\n",
      "192/192 [==============================] - 1s 2ms/step - loss: 0.4227 - accuracy: 0.8022\n",
      "576/576 [==============================] - 2s 2ms/step - loss: 0.5177 - accuracy: 0.7585\n",
      "192/192 [==============================] - 0s 2ms/step - loss: 0.4682 - accuracy: 0.7750\n",
      "576/576 [==============================] - 2s 2ms/step - loss: 0.5251 - accuracy: 0.7469\n",
      "192/192 [==============================] - 0s 2ms/step - loss: 0.4273 - accuracy: 0.8065\n",
      "576/576 [==============================] - 2s 2ms/step - loss: 0.5109 - accuracy: 0.7631\n",
      "192/192 [==============================] - 0s 1ms/step - loss: 0.4375 - accuracy: 0.7941\n",
      "576/576 [==============================] - 2s 2ms/step - loss: 0.5462 - accuracy: 0.7448\n",
      "192/192 [==============================] - 0s 1ms/step - loss: 0.4447 - accuracy: 0.7978\n",
      "576/576 [==============================] - 2s 3ms/step - loss: 0.5185 - accuracy: 0.7632\n",
      "192/192 [==============================] - 0s 1ms/step - loss: 0.5183 - accuracy: 0.7609\n",
      "576/576 [==============================] - 2s 2ms/step - loss: 0.5323 - accuracy: 0.7560\n",
      "192/192 [==============================] - 0s 2ms/step - loss: 0.4657 - accuracy: 0.7864\n",
      "576/576 [==============================] - 2s 2ms/step - loss: 0.5396 - accuracy: 0.7486\n",
      "192/192 [==============================] - 0s 1ms/step - loss: 0.4687 - accuracy: 0.7759: 0s - loss: 0.4745 - accuracy: 0.\n",
      "576/576 [==============================] - 2s 2ms/step - loss: 0.5403 - accuracy: 0.7484\n",
      "192/192 [==============================] - 1s 3ms/step - loss: 0.4456 - accuracy: 0.8120\n",
      "576/576 [==============================] - 5s 7ms/step - loss: 0.5424 - accuracy: 0.7412: 0s - loss:\n",
      "192/192 [==============================] - 1s 3ms/step - loss: 0.5165 - accuracy: 0.7629\n",
      "576/576 [==============================] - 5s 6ms/step - loss: 0.5347 - accuracy: 0.7519\n",
      "192/192 [==============================] - 1s 4ms/step - loss: 0.4676 - accuracy: 0.7850\n",
      "576/576 [==============================] - 3s 5ms/step - loss: 0.5274 - accuracy: 0.7586\n",
      "192/192 [==============================] - 1s 3ms/step - loss: 0.4639 - accuracy: 0.7750\n",
      "576/576 [==============================] - 3s 5ms/step - loss: 0.5283 - accuracy: 0.7497\n",
      "192/192 [==============================] - 1s 2ms/step - loss: 0.4223 - accuracy: 0.8057\n",
      "576/576 [==============================] - 2s 3ms/step - loss: 0.5165 - accuracy: 0.7595: 0s - loss: 0.5232 - accura\n",
      "192/192 [==============================] - 1s 3ms/step - loss: 0.4822 - accuracy: 0.7713\n",
      "576/576 [==============================] - 4s 5ms/step - loss: 0.5188 - accuracy: 0.7604: 0s - loss: 0.5244 \n",
      "192/192 [==============================] - 1s 2ms/step - loss: 0.4425 - accuracy: 0.7959\n",
      "576/576 [==============================] - 2s 2ms/step - loss: 0.5140 - accuracy: 0.7661\n",
      "192/192 [==============================] - 0s 2ms/step - loss: 0.4506 - accuracy: 0.7743\n",
      "576/576 [==============================] - 2s 2ms/step - loss: 0.5441 - accuracy: 0.7499\n",
      "192/192 [==============================] - 0s 2ms/step - loss: 0.4515 - accuracy: 0.7784: 0s - loss: 0.4403 - accuracy: 0.\n",
      "576/576 [==============================] - 2s 2ms/step - loss: 0.5382 - accuracy: 0.7497\n",
      "192/192 [==============================] - 0s 2ms/step - loss: 0.5130 - accuracy: 0.7592\n",
      "576/576 [==============================] - 2s 2ms/step - loss: 0.5660 - accuracy: 0.7355\n",
      "192/192 [==============================] - 1s 5ms/step - loss: 0.4742 - accuracy: 0.7835\n",
      "576/576 [==============================] - 2s 3ms/step - loss: 0.5361 - accuracy: 0.7560\n",
      "192/192 [==============================] - 1s 2ms/step - loss: 0.4717 - accuracy: 0.7715\n",
      "576/576 [==============================] - 4s 4ms/step - loss: 0.5416 - accuracy: 0.7531\n",
      "192/192 [==============================] - 0s 2ms/step - loss: 0.4463 - accuracy: 0.7987\n",
      "576/576 [==============================] - 2s 2ms/step - loss: 0.5498 - accuracy: 0.7363\n",
      "192/192 [==============================] - 1s 2ms/step - loss: 0.5039 - accuracy: 0.7588\n",
      "576/576 [==============================] - 2s 2ms/step - loss: 0.5514 - accuracy: 0.7450\n",
      "192/192 [==============================] - 1s 4ms/step - loss: 0.4748 - accuracy: 0.7792\n",
      "576/576 [==============================] - 2s 2ms/step - loss: 0.5450 - accuracy: 0.7579\n",
      "192/192 [==============================] - 0s 2ms/step - loss: 0.4785 - accuracy: 0.7724\n",
      "576/576 [==============================] - 2s 3ms/step - loss: 0.5611 - accuracy: 0.7490\n",
      "192/192 [==============================] - 1s 3ms/step - loss: 0.4811 - accuracy: 0.7745\n",
      "576/576 [==============================] - 2s 2ms/step - loss: 0.5442 - accuracy: 0.7546: 0s - loss: 0.5446 - accuracy: 0.75\n",
      "192/192 [==============================] - 0s 2ms/step - loss: 0.5238 - accuracy: 0.7441\n",
      "576/576 [==============================] - 3s 3ms/step - loss: 0.5661 - accuracy: 0.7421\n",
      "192/192 [==============================] - 1s 3ms/step - loss: 0.5045 - accuracy: 0.7667\n",
      "576/576 [==============================] - 2s 3ms/step - loss: 0.5480 - accuracy: 0.7563\n",
      "192/192 [==============================] - 1s 2ms/step - loss: 0.5189 - accuracy: 0.7483\n",
      "576/576 [==============================] - 2s 2ms/step - loss: 0.5960 - accuracy: 0.7327\n",
      "192/192 [==============================] - 1s 2ms/step - loss: 0.4885 - accuracy: 0.7683\n",
      "576/576 [==============================] - 2s 2ms/step - loss: 0.5905 - accuracy: 0.7230\n",
      "192/192 [==============================] - 1s 2ms/step - loss: 0.5154 - accuracy: 0.7433\n",
      "576/576 [==============================] - 3s 3ms/step - loss: 0.5963 - accuracy: 0.7382\n",
      "192/192 [==============================] - 1s 2ms/step - loss: 0.4911 - accuracy: 0.7668\n",
      "576/576 [==============================] - 4s 4ms/step - loss: 0.6060 - accuracy: 0.7294\n",
      "192/192 [==============================] - 1s 5ms/step - loss: 0.4982 - accuracy: 0.7483\n",
      "576/576 [==============================] - 4s 5ms/step - loss: 0.6320 - accuracy: 0.7009\n",
      "192/192 [==============================] - 1s 2ms/step - loss: 0.5049 - accuracy: 0.7683\n",
      "576/576 [==============================] - 2s 2ms/step - loss: 0.5833 - accuracy: 0.7482\n",
      "192/192 [==============================] - 1s 3ms/step - loss: 0.5154 - accuracy: 0.7433\n",
      "576/576 [==============================] - 2s 3ms/step - loss: 0.6167 - accuracy: 0.7174\n",
      "192/192 [==============================] - 0s 2ms/step - loss: 0.5015 - accuracy: 0.7668\n",
      "576/576 [==============================] - 3s 3ms/step - loss: 0.5967 - accuracy: 0.7418\n",
      "192/192 [==============================] - 1s 3ms/step - loss: 0.4986 - accuracy: 0.7477\n",
      "576/576 [==============================] - 2s 3ms/step - loss: 0.5265 - accuracy: 0.7512\n",
      "192/192 [==============================] - 1s 2ms/step - loss: 0.4608 - accuracy: 0.8060\n",
      "576/576 [==============================] - 3s 5ms/step - loss: 0.5091 - accuracy: 0.7629: 0s - loss: 0.5114 - \n",
      "192/192 [==============================] - 1s 3ms/step - loss: 0.5093 - accuracy: 0.7575\n",
      "576/576 [==============================] - 2s 2ms/step - loss: 0.5196 - accuracy: 0.7591\n",
      "192/192 [==============================] - 1s 2ms/step - loss: 0.4818 - accuracy: 0.7814\n",
      "576/576 [==============================] - 3s 4ms/step - loss: 0.5148 - accuracy: 0.7671\n",
      "192/192 [==============================] - 1s 3ms/step - loss: 0.4771 - accuracy: 0.7727\n",
      "576/576 [==============================] - 5s 7ms/step - loss: 0.5359 - accuracy: 0.7470\n",
      "192/192 [==============================] - 1s 2ms/step - loss: 0.4588 - accuracy: 0.8029\n",
      "576/576 [==============================] - 3s 3ms/step - loss: 0.5174 - accuracy: 0.7591\n",
      "192/192 [==============================] - 1s 2ms/step - loss: 0.5169 - accuracy: 0.7568: 0s - loss: 0.5140 - accuracy: \n",
      "576/576 [==============================] - 4s 3ms/step - loss: 0.5272 - accuracy: 0.7532\n",
      "192/192 [==============================] - 1s 4ms/step - loss: 0.4789 - accuracy: 0.7772\n",
      "576/576 [==============================] - 4s 4ms/step - loss: 0.5321 - accuracy: 0.7539\n",
      "192/192 [==============================] - 1s 2ms/step - loss: 0.4827 - accuracy: 0.7755\n",
      "576/576 [==============================] - 3s 5ms/step - loss: 0.5356 - accuracy: 0.7527\n"
     ]
    },
    {
     "name": "stdout",
     "output_type": "stream",
     "text": [
      "192/192 [==============================] - 1s 2ms/step - loss: 0.4581 - accuracy: 0.7961\n",
      "576/576 [==============================] - 2s 3ms/step - loss: 0.5177 - accuracy: 0.7615\n",
      "192/192 [==============================] - 1s 2ms/step - loss: 0.5196 - accuracy: 0.7553\n",
      "576/576 [==============================] - 5s 5ms/step - loss: 0.5161 - accuracy: 0.7588\n",
      "192/192 [==============================] - 1s 4ms/step - loss: 0.4768 - accuracy: 0.7789\n",
      "576/576 [==============================] - 5s 6ms/step - loss: 0.5358 - accuracy: 0.7481\n",
      "192/192 [==============================] - 2s 4ms/step - loss: 0.4891 - accuracy: 0.7625\n",
      "576/576 [==============================] - 2s 3ms/step - loss: 0.5322 - accuracy: 0.7485: 0s - loss: 0.5\n",
      "192/192 [==============================] - 1s 2ms/step - loss: 0.4570 - accuracy: 0.7990\n",
      "576/576 [==============================] - 2s 2ms/step - loss: 0.5183 - accuracy: 0.7596\n",
      "192/192 [==============================] - 1s 2ms/step - loss: 0.5296 - accuracy: 0.7539\n",
      "576/576 [==============================] - 2s 2ms/step - loss: 0.5256 - accuracy: 0.7511\n",
      "192/192 [==============================] - 1s 2ms/step - loss: 0.4849 - accuracy: 0.7735\n",
      "576/576 [==============================] - 3s 4ms/step - loss: 0.5229 - accuracy: 0.7590\n",
      "192/192 [==============================] - 1s 2ms/step - loss: 0.4848 - accuracy: 0.7664\n",
      "576/576 [==============================] - 3s 3ms/step - loss: 0.5402 - accuracy: 0.7500\n",
      "192/192 [==============================] - 1s 2ms/step - loss: 0.4583 - accuracy: 0.7923\n",
      "576/576 [==============================] - 3s 2ms/step - loss: 0.5200 - accuracy: 0.7655\n",
      "192/192 [==============================] - 0s 1ms/step - loss: 0.5223 - accuracy: 0.7566\n",
      "576/576 [==============================] - 3s 3ms/step - loss: 0.5451 - accuracy: 0.7417\n",
      "192/192 [==============================] - 0s 2ms/step - loss: 0.4875 - accuracy: 0.7759\n",
      "576/576 [==============================] - 2s 2ms/step - loss: 0.5288 - accuracy: 0.7617\n",
      "192/192 [==============================] - 1s 2ms/step - loss: 0.4878 - accuracy: 0.7693\n",
      "576/576 [==============================] - 2s 2ms/step - loss: 0.5457 - accuracy: 0.7436\n",
      "192/192 [==============================] - 1s 2ms/step - loss: 0.4620 - accuracy: 0.7978\n",
      "576/576 [==============================] - 2s 3ms/step - loss: 0.5363 - accuracy: 0.7502\n",
      "192/192 [==============================] - 1s 3ms/step - loss: 0.5225 - accuracy: 0.7565\n",
      "576/576 [==============================] - 2s 3ms/step - loss: 0.5487 - accuracy: 0.7402\n",
      "192/192 [==============================] - 0s 2ms/step - loss: 0.4832 - accuracy: 0.7780\n",
      "576/576 [==============================] - 3s 3ms/step - loss: 0.5412 - accuracy: 0.7475\n",
      "192/192 [==============================] - 1s 2ms/step - loss: 0.4876 - accuracy: 0.7668\n",
      "576/576 [==============================] - 3s 4ms/step - loss: 0.5598 - accuracy: 0.7468\n",
      "192/192 [==============================] - 1s 5ms/step - loss: 0.4641 - accuracy: 0.7879\n",
      "576/576 [==============================] - 3s 4ms/step - loss: 0.5415 - accuracy: 0.7554\n",
      "192/192 [==============================] - 1s 3ms/step - loss: 0.5258 - accuracy: 0.7491\n",
      "576/576 [==============================] - 3s 4ms/step - loss: 0.5583 - accuracy: 0.7431\n",
      "192/192 [==============================] - 1s 3ms/step - loss: 0.4935 - accuracy: 0.7683\n",
      "576/576 [==============================] - 3s 4ms/step - loss: 0.5507 - accuracy: 0.7541\n",
      "192/192 [==============================] - 1s 4ms/step - loss: 0.4941 - accuracy: 0.7652\n",
      "576/576 [==============================] - 5s 6ms/step - loss: 0.5932 - accuracy: 0.7257\n",
      "192/192 [==============================] - 1s 2ms/step - loss: 0.4692 - accuracy: 0.7892\n",
      "576/576 [==============================] - 3s 3ms/step - loss: 0.5932 - accuracy: 0.7227\n",
      "192/192 [==============================] - 1s 2ms/step - loss: 0.5205 - accuracy: 0.7551\n",
      "576/576 [==============================] - 3s 3ms/step - loss: 0.6018 - accuracy: 0.7103\n",
      "192/192 [==============================] - 1s 2ms/step - loss: 0.4851 - accuracy: 0.7782\n",
      "576/576 [==============================] - 3s 3ms/step - loss: 0.6009 - accuracy: 0.7239\n",
      "192/192 [==============================] - 1s 2ms/step - loss: 0.4916 - accuracy: 0.7666\n",
      "576/576 [==============================] - 3s 4ms/step - loss: 0.5952 - accuracy: 0.7175\n",
      "192/192 [==============================] - 1s 2ms/step - loss: 0.4723 - accuracy: 0.7912\n",
      "576/576 [==============================] - 3s 2ms/step - loss: 0.6076 - accuracy: 0.7101\n",
      "192/192 [==============================] - 1s 2ms/step - loss: 0.5218 - accuracy: 0.7563\n",
      "576/576 [==============================] - 3s 4ms/step - loss: 0.5912 - accuracy: 0.7225\n",
      "192/192 [==============================] - 1s 3ms/step - loss: 0.4852 - accuracy: 0.7753\n",
      "576/576 [==============================] - 2s 3ms/step - loss: 0.6086 - accuracy: 0.7147\n",
      "192/192 [==============================] - 1s 5ms/step - loss: 0.4955 - accuracy: 0.7670\n",
      "576/576 [==============================] - 3s 3ms/step - loss: 0.5637 - accuracy: 0.7556\n",
      "192/192 [==============================] - 1s 3ms/step - loss: 0.5433 - accuracy: 0.7683\n",
      "576/576 [==============================] - 3s 4ms/step - loss: 0.5617 - accuracy: 0.7536\n",
      "192/192 [==============================] - 1s 5ms/step - loss: 0.5698 - accuracy: 0.7433\n",
      "576/576 [==============================] - 3s 3ms/step - loss: 0.5634 - accuracy: 0.7547\n",
      "192/192 [==============================] - 2s 8ms/step - loss: 0.5429 - accuracy: 0.7667\n",
      "576/576 [==============================] - 4s 5ms/step - loss: 0.5584 - accuracy: 0.7591\n",
      "192/192 [==============================] - 1s 5ms/step - loss: 0.5637 - accuracy: 0.7483\n",
      "576/576 [==============================] - 4s 5ms/step - loss: 0.5671 - accuracy: 0.7462\n",
      "192/192 [==============================] - 1s 3ms/step - loss: 0.4800 - accuracy: 0.7705\n",
      "576/576 [==============================] - 3s 3ms/step - loss: 0.5972 - accuracy: 0.6994\n",
      "192/192 [==============================] - 1s 2ms/step - loss: 0.5285 - accuracy: 0.7477\n",
      "576/576 [==============================] - 2s 2ms/step - loss: 0.5718 - accuracy: 0.7392\n",
      "192/192 [==============================] - 1s 2ms/step - loss: 0.4917 - accuracy: 0.7696\n",
      "576/576 [==============================] - 4s 5ms/step - loss: 0.5584 - accuracy: 0.7547\n",
      "192/192 [==============================] - 1s 4ms/step - loss: 0.5006 - accuracy: 0.7480: 0s - loss: 0.5184 - accuracy\n",
      "576/576 [==============================] - 4s 4ms/step - loss: 0.6150 - accuracy: 0.6836\n",
      "192/192 [==============================] - 1s 3ms/step - loss: 0.5125 - accuracy: 0.7683\n",
      "576/576 [==============================] - 3s 4ms/step - loss: 0.5575 - accuracy: 0.7566\n",
      "192/192 [==============================] - 1s 2ms/step - loss: 0.5246 - accuracy: 0.7556\n",
      "576/576 [==============================] - 2s 3ms/step - loss: 0.5651 - accuracy: 0.7495\n",
      "192/192 [==============================] - 1s 2ms/step - loss: 0.4890 - accuracy: 0.7729\n",
      "576/576 [==============================] - 2s 3ms/step - loss: 0.5556 - accuracy: 0.7579\n",
      "192/192 [==============================] - 1s 3ms/step - loss: 0.4944 - accuracy: 0.7613\n",
      "576/576 [==============================] - 2s 3ms/step - loss: 0.5667 - accuracy: 0.7504\n",
      "192/192 [==============================] - 1s 5ms/step - loss: 0.5434 - accuracy: 0.7683\n",
      "576/576 [==============================] - 4s 5ms/step - loss: 0.5601 - accuracy: 0.7545\n",
      "192/192 [==============================] - 1s 4ms/step - loss: 0.5692 - accuracy: 0.7433\n",
      "576/576 [==============================] - 3s 5ms/step - loss: 0.5746 - accuracy: 0.7416: 0s - loss: 0.5767 \n",
      "192/192 [==============================] - 1s 4ms/step - loss: 0.5457 - accuracy: 0.7667\n",
      "576/576 [==============================] - 3s 3ms/step - loss: 0.5600 - accuracy: 0.7585: 0s - los\n",
      "192/192 [==============================] - 1s 2ms/step - loss: 0.5675 - accuracy: 0.7483\n",
      "576/576 [==============================] - 4s 3ms/step - loss: 0.6447 - accuracy: 0.6556\n",
      "192/192 [==============================] - 1s 2ms/step - loss: 0.5178 - accuracy: 0.7683\n",
      "576/576 [==============================] - 3s 3ms/step - loss: 0.5710 - accuracy: 0.7478: 0s - loss: 0.5766 - accu\n"
     ]
    },
    {
     "name": "stdout",
     "output_type": "stream",
     "text": [
      "192/192 [==============================] - 1s 2ms/step - loss: 0.5279 - accuracy: 0.7433\n",
      "576/576 [==============================] - 3s 3ms/step - loss: 0.5751 - accuracy: 0.7428\n",
      "192/192 [==============================] - 1s 2ms/step - loss: 0.5006 - accuracy: 0.7667\n",
      "576/576 [==============================] - 2s 2ms/step - loss: 0.6321 - accuracy: 0.6734\n",
      "192/192 [==============================] - 1s 3ms/step - loss: 0.5303 - accuracy: 0.7483\n",
      "576/576 [==============================] - 3s 3ms/step - loss: 0.5716 - accuracy: 0.7479\n",
      "192/192 [==============================] - 1s 2ms/step - loss: 0.4822 - accuracy: 0.7683\n",
      "576/576 [==============================] - 3s 3ms/step - loss: 0.5903 - accuracy: 0.7210\n",
      "192/192 [==============================] - 0s 2ms/step - loss: 0.5328 - accuracy: 0.7433\n",
      "576/576 [==============================] - 5s 7ms/step - loss: 0.6532 - accuracy: 0.6497\n",
      "192/192 [==============================] - 1s 3ms/step - loss: 0.5390 - accuracy: 0.7667\n",
      "576/576 [==============================] - 3s 3ms/step - loss: 0.5873 - accuracy: 0.7221\n",
      "192/192 [==============================] - 1s 4ms/step - loss: 0.5498 - accuracy: 0.7483\n",
      "576/576 [==============================] - 2s 2ms/step - loss: 0.5810 - accuracy: 0.7418\n",
      "192/192 [==============================] - 0s 2ms/step - loss: 0.5422 - accuracy: 0.7683\n",
      "576/576 [==============================] - 2s 3ms/step - loss: 0.5625 - accuracy: 0.7577\n",
      "192/192 [==============================] - 1s 1ms/step - loss: 0.5706 - accuracy: 0.7433\n",
      "576/576 [==============================] - 3s 3ms/step - loss: 0.5878 - accuracy: 0.7393\n",
      "192/192 [==============================] - 1s 2ms/step - loss: 0.5444 - accuracy: 0.7667\n",
      "576/576 [==============================] - 3s 5ms/step - loss: 0.5744 - accuracy: 0.7511\n",
      "192/192 [==============================] - 1s 1ms/step - loss: 0.5689 - accuracy: 0.7483\n",
      "576/576 [==============================] - 5s 6ms/step - loss: 0.6099 - accuracy: 0.7182\n",
      "192/192 [==============================] - 0s 1ms/step - loss: 0.5370 - accuracy: 0.7683\n",
      "576/576 [==============================] - 4s 5ms/step - loss: 0.6356 - accuracy: 0.6791: 0s - loss: 0.6390 - accura\n",
      "192/192 [==============================] - 1s 2ms/step - loss: 0.5633 - accuracy: 0.7433\n",
      "576/576 [==============================] - 3s 2ms/step - loss: 0.6282 - accuracy: 0.6872: 1s\n",
      "192/192 [==============================] - 0s 1ms/step - loss: 0.5462 - accuracy: 0.7667\n",
      "576/576 [==============================] - 2s 2ms/step - loss: 0.6144 - accuracy: 0.7098\n",
      "192/192 [==============================] - 1s 2ms/step - loss: 0.5620 - accuracy: 0.7483\n",
      "576/576 [==============================] - 4s 4ms/step - loss: 0.6444 - accuracy: 0.6597\n",
      "192/192 [==============================] - 1s 2ms/step - loss: 0.5452 - accuracy: 0.7683\n",
      "576/576 [==============================] - 3s 4ms/step - loss: 0.7268 - accuracy: 0.6154\n",
      "192/192 [==============================] - 1s 4ms/step - loss: 0.5724 - accuracy: 0.7433\n",
      "576/576 [==============================] - 2s 3ms/step - loss: 0.6696 - accuracy: 0.6703: 0s - loss: 0.685\n",
      "192/192 [==============================] - 1s 3ms/step - loss: 0.5478 - accuracy: 0.7667\n",
      "576/576 [==============================] - 3s 3ms/step - loss: 0.7190 - accuracy: 0.6205\n",
      "192/192 [==============================] - 1s 3ms/step - loss: 0.5668 - accuracy: 0.7483\n",
      "768/768 [==============================] - 3s 3ms/step - loss: 0.5060 - accuracy: 0.7643\n",
      "Best: 0.794427 using {'activation': 'relu', 'dropout_rate': 0.2, 'optimizer': <tensorflow.python.keras.optimizer_v2.gradient_descent.SGD object at 0x7f8c76e73320>}\n",
      "0.794427 (0.012068) with: {'activation': 'relu', 'dropout_rate': 0.2, 'optimizer': <tensorflow.python.keras.optimizer_v2.gradient_descent.SGD object at 0x7f8c76e73320>}\n",
      "0.780260 (0.013576) with: {'activation': 'relu', 'dropout_rate': 0.2, 'optimizer': 'RMSprop'}\n",
      "0.783724 (0.018090) with: {'activation': 'relu', 'dropout_rate': 0.2, 'optimizer': 'Adam'}\n",
      "0.786797 (0.014496) with: {'activation': 'relu', 'dropout_rate': 0.4, 'optimizer': <tensorflow.python.keras.optimizer_v2.gradient_descent.SGD object at 0x7f8c76e73320>}\n",
      "0.773151 (0.009142) with: {'activation': 'relu', 'dropout_rate': 0.4, 'optimizer': 'RMSprop'}\n",
      "0.777266 (0.014420) with: {'activation': 'relu', 'dropout_rate': 0.4, 'optimizer': 'Adam'}\n",
      "0.758385 (0.012587) with: {'activation': 'relu', 'dropout_rate': 0.8, 'optimizer': <tensorflow.python.keras.optimizer_v2.gradient_descent.SGD object at 0x7f8c76e73320>}\n",
      "0.756693 (0.011016) with: {'activation': 'relu', 'dropout_rate': 0.8, 'optimizer': 'RMSprop'}\n",
      "0.756536 (0.011137) with: {'activation': 'relu', 'dropout_rate': 0.8, 'optimizer': 'Adam'}\n",
      "0.779401 (0.017593) with: {'activation': 'elu', 'dropout_rate': 0.2, 'optimizer': <tensorflow.python.keras.optimizer_v2.gradient_descent.SGD object at 0x7f8c76e73320>}\n",
      "0.778099 (0.016419) with: {'activation': 'elu', 'dropout_rate': 0.2, 'optimizer': 'RMSprop'}\n",
      "0.773203 (0.015755) with: {'activation': 'elu', 'dropout_rate': 0.2, 'optimizer': 'Adam'}\n",
      "0.773177 (0.016468) with: {'activation': 'elu', 'dropout_rate': 0.4, 'optimizer': <tensorflow.python.keras.optimizer_v2.gradient_descent.SGD object at 0x7f8c76e73320>}\n",
      "0.773516 (0.012882) with: {'activation': 'elu', 'dropout_rate': 0.4, 'optimizer': 'RMSprop'}\n",
      "0.774766 (0.015336) with: {'activation': 'elu', 'dropout_rate': 0.4, 'optimizer': 'Adam'}\n",
      "0.767630 (0.013808) with: {'activation': 'elu', 'dropout_rate': 0.8, 'optimizer': <tensorflow.python.keras.optimizer_v2.gradient_descent.SGD object at 0x7f8c76e73320>}\n",
      "0.772266 (0.012730) with: {'activation': 'elu', 'dropout_rate': 0.8, 'optimizer': 'RMSprop'}\n",
      "0.772448 (0.012787) with: {'activation': 'elu', 'dropout_rate': 0.8, 'optimizer': 'Adam'}\n",
      "0.756667 (0.010992) with: {'activation': 'sigmoid', 'dropout_rate': 0.2, 'optimizer': <tensorflow.python.keras.optimizer_v2.gradient_descent.SGD object at 0x7f8c76e73320>}\n",
      "0.758958 (0.011099) with: {'activation': 'sigmoid', 'dropout_rate': 0.2, 'optimizer': 'RMSprop'}\n",
      "0.764531 (0.006612) with: {'activation': 'sigmoid', 'dropout_rate': 0.2, 'optimizer': 'Adam'}\n",
      "0.756667 (0.010992) with: {'activation': 'sigmoid', 'dropout_rate': 0.4, 'optimizer': <tensorflow.python.keras.optimizer_v2.gradient_descent.SGD object at 0x7f8c76e73320>}\n",
      "0.756667 (0.010992) with: {'activation': 'sigmoid', 'dropout_rate': 0.4, 'optimizer': 'RMSprop'}\n",
      "0.756667 (0.010992) with: {'activation': 'sigmoid', 'dropout_rate': 0.4, 'optimizer': 'Adam'}\n",
      "0.756667 (0.010992) with: {'activation': 'sigmoid', 'dropout_rate': 0.8, 'optimizer': <tensorflow.python.keras.optimizer_v2.gradient_descent.SGD object at 0x7f8c76e73320>}\n",
      "0.756667 (0.010992) with: {'activation': 'sigmoid', 'dropout_rate': 0.8, 'optimizer': 'RMSprop'}\n",
      "0.756667 (0.010992) with: {'activation': 'sigmoid', 'dropout_rate': 0.8, 'optimizer': 'Adam'}\n"
     ]
    }
   ],
   "source": [
    "from sklearn.model_selection import GridSearchCV\n",
    "from keras.wrappers.scikit_learn import KerasClassifier\n",
    "\n",
    "# call Keras scikit wrapper\n",
    "model_gridsearch = KerasClassifier(build_fn=compile_model, \n",
    "                                   epochs=1, \n",
    "                                   batch_size=50, \n",
    "                                   verbose=1)\n",
    "\n",
    "# list of allowed optional arguments for the optimizer, see compile_model()\n",
    "#optimizer = ['SGD', 'RMSprop', 'Adagrad', 'Adadelta', 'Adam', 'Adamax', 'Nadam']\n",
    "optimizer = [opt1,'RMSprop', 'Adam'] #opt1 = SGD(learning_rate=0.1, momentum=0.9, nesterov=True) \n",
    "#activation = [\"relu\",\"elu\",\"sigmoid\",\"tanh\"]\n",
    "activation = [\"relu\",\"elu\",\"sigmoid\"]\n",
    "#dropout_rate = [0,0.1,0.2,0.4,0.8]\n",
    "dropout_rate = [0.2,0.4,0.8]\n",
    "# define parameter dictionary\n",
    "param_grid = dict(optimizer=optimizer,activation=activation,dropout_rate=dropout_rate)\n",
    "# call scikit grid search module\n",
    "grid = GridSearchCV(estimator=model_gridsearch, param_grid=param_grid, n_jobs=1, cv=4)\n",
    "grid_result = grid.fit(new_x_train,new_y_train)\n",
    "\n",
    "# summarize results\n",
    "print(\"Best: %f using %s\" % (grid_result.best_score_, grid_result.best_params_))\n",
    "means = grid_result.cv_results_['mean_test_score']\n",
    "stds = grid_result.cv_results_['std_test_score']\n",
    "params = grid_result.cv_results_['params']\n",
    "for mean, stdev, param in zip(means, stds, params) :\n",
    "    print(\"%f (%f) with: %r\" % (mean, stdev, param))"
   ]
  },
  {
   "cell_type": "code",
   "execution_count": 19,
   "metadata": {},
   "outputs": [
    {
     "name": "stdout",
     "output_type": "stream",
     "text": [
      "12/12 [==============================] - 0s 3ms/step - loss: 0.3895 - accuracy: 0.8117\n"
     ]
    },
    {
     "data": {
      "text/plain": [
       "0.8116666674613953"
      ]
     },
     "execution_count": 19,
     "metadata": {},
     "output_type": "execute_result"
    }
   ],
   "source": [
    "grid_result.score(x_test,y_test)"
   ]
  },
  {
   "cell_type": "code",
   "execution_count": 20,
   "metadata": {},
   "outputs": [
    {
     "name": "stdout",
     "output_type": "stream",
     "text": [
      "Epoch 1/30\n",
      "768/768 [==============================] - 2s 2ms/step - loss: 0.4999 - accuracy: 0.7662 - val_loss: 0.3957 - val_accuracy: 0.8117\n",
      "Epoch 2/30\n",
      "768/768 [==============================] - 1s 2ms/step - loss: 0.3817 - accuracy: 0.8286 - val_loss: 0.3176 - val_accuracy: 0.8600\n",
      "Epoch 3/30\n",
      "768/768 [==============================] - 1s 2ms/step - loss: 0.3173 - accuracy: 0.8653 - val_loss: 0.2711 - val_accuracy: 0.8883\n",
      "Epoch 4/30\n",
      "768/768 [==============================] - 1s 2ms/step - loss: 0.2775 - accuracy: 0.8927 - val_loss: 0.2473 - val_accuracy: 0.8967\n",
      "Epoch 5/30\n",
      "768/768 [==============================] - 2s 2ms/step - loss: 0.2552 - accuracy: 0.9041 - val_loss: 0.2229 - val_accuracy: 0.9083\n",
      "Epoch 6/30\n",
      "768/768 [==============================] - 2s 2ms/step - loss: 0.2281 - accuracy: 0.9195 - val_loss: 0.2215 - val_accuracy: 0.9117\n",
      "Epoch 7/30\n",
      "768/768 [==============================] - 1s 2ms/step - loss: 0.2038 - accuracy: 0.9335 - val_loss: 0.1751 - val_accuracy: 0.9483\n",
      "Epoch 8/30\n",
      "768/768 [==============================] - 1s 2ms/step - loss: 0.1755 - accuracy: 0.9454 - val_loss: 0.1239 - val_accuracy: 0.9567\n",
      "Epoch 9/30\n",
      "768/768 [==============================] - 1s 2ms/step - loss: 0.1679 - accuracy: 0.9464 - val_loss: 0.1410 - val_accuracy: 0.9583\n",
      "Epoch 10/30\n",
      "768/768 [==============================] - 3s 4ms/step - loss: 0.1607 - accuracy: 0.9482 - val_loss: 0.1413 - val_accuracy: 0.9567\n",
      "Epoch 11/30\n",
      "768/768 [==============================] - 2s 3ms/step - loss: 0.1568 - accuracy: 0.9498 - val_loss: 0.1480 - val_accuracy: 0.9533\n",
      "Epoch 12/30\n",
      "768/768 [==============================] - 5s 7ms/step - loss: 0.1546 - accuracy: 0.9488 - val_loss: 0.1396 - val_accuracy: 0.9583\n",
      "Epoch 13/30\n",
      "768/768 [==============================] - 3s 4ms/step - loss: 0.1495 - accuracy: 0.9508 - val_loss: 0.1345 - val_accuracy: 0.9617\n",
      "Epoch 14/30\n",
      "768/768 [==============================] - 3s 4ms/step - loss: 0.1456 - accuracy: 0.9515 - val_loss: 0.1220 - val_accuracy: 0.9600\n",
      "Epoch 15/30\n",
      "768/768 [==============================] - 4s 5ms/step - loss: 0.1472 - accuracy: 0.9496 - val_loss: 0.1341 - val_accuracy: 0.9567\n",
      "Epoch 16/30\n",
      "768/768 [==============================] - 3s 4ms/step - loss: 0.1395 - accuracy: 0.9528 - val_loss: 0.1309 - val_accuracy: 0.9617\n",
      "Epoch 17/30\n",
      "768/768 [==============================] - 3s 3ms/step - loss: 0.1421 - accuracy: 0.9508 - val_loss: 0.1505 - val_accuracy: 0.9567\n",
      "Epoch 18/30\n",
      "768/768 [==============================] - 3s 4ms/step - loss: 0.1438 - accuracy: 0.9506 - val_loss: 0.1496 - val_accuracy: 0.9550\n",
      "Epoch 19/30\n",
      "768/768 [==============================] - 3s 4ms/step - loss: 0.1329 - accuracy: 0.9541 - val_loss: 0.1341 - val_accuracy: 0.9567\n",
      "Epoch 20/30\n",
      "768/768 [==============================] - 3s 3ms/step - loss: 0.1360 - accuracy: 0.9528 - val_loss: 0.1496 - val_accuracy: 0.9483\n",
      "Epoch 21/30\n",
      "768/768 [==============================] - 2s 3ms/step - loss: 0.1367 - accuracy: 0.9520 - val_loss: 0.1482 - val_accuracy: 0.9533\n",
      "Epoch 22/30\n",
      "768/768 [==============================] - 3s 4ms/step - loss: 0.1377 - accuracy: 0.9507 - val_loss: 0.1417 - val_accuracy: 0.9517\n",
      "Epoch 23/30\n",
      "768/768 [==============================] - 2s 3ms/step - loss: 0.1333 - accuracy: 0.9533 - val_loss: 0.1811 - val_accuracy: 0.9500\n",
      "Epoch 24/30\n",
      "768/768 [==============================] - 2s 3ms/step - loss: 0.1349 - accuracy: 0.9521 - val_loss: 0.1799 - val_accuracy: 0.9533\n",
      "Epoch 25/30\n",
      "768/768 [==============================] - 2s 3ms/step - loss: 0.1293 - accuracy: 0.9534 - val_loss: 0.1768 - val_accuracy: 0.9483\n",
      "Epoch 26/30\n",
      "768/768 [==============================] - 2s 3ms/step - loss: 0.1284 - accuracy: 0.9547 - val_loss: 0.1539 - val_accuracy: 0.9533\n",
      "Epoch 27/30\n",
      "768/768 [==============================] - 2s 3ms/step - loss: 0.1268 - accuracy: 0.9536 - val_loss: 0.1799 - val_accuracy: 0.9467\n",
      "Epoch 28/30\n",
      "768/768 [==============================] - 2s 2ms/step - loss: 0.1322 - accuracy: 0.9528 - val_loss: 0.1540 - val_accuracy: 0.9483\n",
      "Epoch 29/30\n",
      "768/768 [==============================] - 2s 3ms/step - loss: 0.1234 - accuracy: 0.9554 - val_loss: 0.1483 - val_accuracy: 0.9533\n",
      "Epoch 30/30\n",
      "768/768 [==============================] - 2s 2ms/step - loss: 0.1234 - accuracy: 0.9560 - val_loss: 0.2009 - val_accuracy: 0.9450\n"
     ]
    }
   ],
   "source": [
    "act = grid_result.best_params_[\"activation\"]\n",
    "drop = grid_result.best_params_[\"dropout_rate\"]\n",
    "opt = grid_result.best_params_[\"optimizer\"]\n",
    "\n",
    "best_model = compile_model(activation=act,dropout_rate=drop,optimizer=opt)\n",
    "fit_best = best_model.fit(new_x_train, new_y_train, \n",
    "                          epochs=30, batch_size=50,\n",
    "                          validation_data=(x_test,y_test),\n",
    "                          shuffle=True)"
   ]
  },
  {
   "cell_type": "code",
   "execution_count": 21,
   "metadata": {},
   "outputs": [
    {
     "name": "stdout",
     "output_type": "stream",
     "text": [
      "19/19 [==============================] - 0s 4ms/step - loss: 0.2009 - accuracy: 0.9450\n",
      "\n",
      "Test loss: 0.2009258270263672\n",
      "Test accuracy: 0.9449999928474426\n"
     ]
    },
    {
     "data": {
      "image/png": "[encoded data removed]",
      "text/plain": [
       "<Figure size 432x288 with 1 Axes>"
      ]
     },
     "metadata": {
      "needs_background": "light"
     },
     "output_type": "display_data"
    },
    {
     "data": {
      "image/png": "[encoded data removed]",
      "text/plain": [
       "<Figure size 432x288 with 1 Axes>"
      ]
     },
     "metadata": {
      "needs_background": "light"
     },
     "output_type": "display_data"
    }
   ],
   "source": [
    "#Plot the results\n",
    "\n",
    "score_best = best_model.evaluate(x_test, y_test, verbose=1)\n",
    "\n",
    "# print performance\n",
    "print()\n",
    "print('Test loss:', score_best[0])\n",
    "print('Test accuracy:', score_best[1])\n",
    "# look into training history\n",
    "\n",
    "# summarize history for accuracy\n",
    "plt.plot(fit_best.history['accuracy'])\n",
    "plt.plot(fit_best.history['val_accuracy'])\n",
    "plt.ylabel('model accuracy')\n",
    "plt.xlabel('epoch')\n",
    "plt.legend(['train', 'test'], loc='best')\n",
    "plt.show()\n",
    "\n",
    "# summarize history for loss\n",
    "plt.plot(fit_best.history['loss'])\n",
    "plt.plot(fit_best.history['val_loss'])\n",
    "plt.ylabel('model loss')\n",
    "plt.xlabel('epoch')\n",
    "plt.legend(['train', 'test'], loc='best')\n",
    "plt.show()"
   ]
  },
  {
   "cell_type": "markdown",
   "metadata": {},
   "source": [
    "### part 4"
   ]
  },
  {
   "cell_type": "code",
   "execution_count": 22,
   "metadata": {},
   "outputs": [],
   "source": [
    "new_x_train = new_x_train-0.5"
   ]
  },
  {
   "cell_type": "code",
   "execution_count": 23,
   "metadata": {},
   "outputs": [
    {
     "name": "stdout",
     "output_type": "stream",
     "text": [
      "576/576 [==============================] - 3s 3ms/step - loss: 0.5234 - accuracy: 0.7537\n",
      "192/192 [==============================] - 1s 2ms/step - loss: 0.4266 - accuracy: 0.8022\n",
      "576/576 [==============================] - 3s 3ms/step - loss: 0.5082 - accuracy: 0.7639\n",
      "192/192 [==============================] - 0s 1ms/step - loss: 0.4704 - accuracy: 0.7736\n",
      "576/576 [==============================] - 4s 5ms/step - loss: 0.5189 - accuracy: 0.7533\n",
      "192/192 [==============================] - 1s 4ms/step - loss: 0.4204 - accuracy: 0.8130\n",
      "576/576 [==============================] - 5s 3ms/step - loss: 0.5101 - accuracy: 0.7653\n",
      "192/192 [==============================] - 0s 1ms/step - loss: 0.4320 - accuracy: 0.7986\n",
      "576/576 [==============================] - 2s 2ms/step - loss: 0.5400 - accuracy: 0.7486\n",
      "192/192 [==============================] - 0s 1ms/step - loss: 0.4503 - accuracy: 0.7998\n",
      "576/576 [==============================] - 2s 2ms/step - loss: 0.5391 - accuracy: 0.7481\n",
      "192/192 [==============================] - 1s 2ms/step - loss: 0.5090 - accuracy: 0.7594\n",
      "576/576 [==============================] - 2s 2ms/step - loss: 0.5344 - accuracy: 0.7488\n",
      "192/192 [==============================] - 1s 2ms/step - loss: 0.4683 - accuracy: 0.7859\n",
      "576/576 [==============================] - 4s 2ms/step - loss: 0.5364 - accuracy: 0.7510\n",
      "192/192 [==============================] - 0s 1ms/step - loss: 0.4649 - accuracy: 0.7743\n",
      "576/576 [==============================] - 2s 2ms/step - loss: 0.5425 - accuracy: 0.7392\n",
      "192/192 [==============================] - 0s 1ms/step - loss: 0.4426 - accuracy: 0.7990\n",
      "576/576 [==============================] - 2s 2ms/step - loss: 0.5306 - accuracy: 0.7481\n",
      "192/192 [==============================] - 0s 1ms/step - loss: 0.5012 - accuracy: 0.7670\n",
      "576/576 [==============================] - 2s 2ms/step - loss: 0.5503 - accuracy: 0.7397\n",
      "192/192 [==============================] - 0s 1ms/step - loss: 0.4697 - accuracy: 0.7820\n",
      "576/576 [==============================] - 2s 2ms/step - loss: 0.5608 - accuracy: 0.7176: 0s - loss: 0.5679 - accuracy\n",
      "192/192 [==============================] - 0s 1ms/step - loss: 0.4789 - accuracy: 0.7727\n",
      "576/576 [==============================] - 3s 3ms/step - loss: 0.5414 - accuracy: 0.7439\n",
      "192/192 [==============================] - 0s 1ms/step - loss: 0.4154 - accuracy: 0.8133\n",
      "576/576 [==============================] - 2s 2ms/step - loss: 0.5106 - accuracy: 0.7635\n",
      "192/192 [==============================] - 1s 1ms/step - loss: 0.4895 - accuracy: 0.7800\n",
      "576/576 [==============================] - 2s 2ms/step - loss: 0.5268 - accuracy: 0.7547\n",
      "192/192 [==============================] - 1s 1ms/step - loss: 0.4399 - accuracy: 0.7976\n",
      "576/576 [==============================] - 1s 2ms/step - loss: 0.5239 - accuracy: 0.7587\n",
      "192/192 [==============================] - 0s 1ms/step - loss: 0.4483 - accuracy: 0.7912\n",
      "576/576 [==============================] - 2s 2ms/step - loss: 0.5465 - accuracy: 0.7510\n",
      "192/192 [==============================] - 0s 1ms/step - loss: 0.4558 - accuracy: 0.8004\n",
      "576/576 [==============================] - 3s 2ms/step - loss: 0.5253 - accuracy: 0.7642\n",
      "192/192 [==============================] - 0s 1ms/step - loss: 0.5014 - accuracy: 0.7605\n",
      "576/576 [==============================] - 3s 2ms/step - loss: 0.5375 - accuracy: 0.7572\n",
      "192/192 [==============================] - 0s 1ms/step - loss: 0.4724 - accuracy: 0.7860\n",
      "576/576 [==============================] - 2s 2ms/step - loss: 0.5445 - accuracy: 0.7513\n",
      "192/192 [==============================] - 0s 1ms/step - loss: 0.4766 - accuracy: 0.7697\n",
      "576/576 [==============================] - 2s 2ms/step - loss: 0.5609 - accuracy: 0.7174\n",
      "192/192 [==============================] - 0s 1ms/step - loss: 0.4517 - accuracy: 0.7792\n",
      "576/576 [==============================] - 2s 2ms/step - loss: 0.5622 - accuracy: 0.7244\n",
      "192/192 [==============================] - 1s 3ms/step - loss: 0.5061 - accuracy: 0.7596\n",
      "576/576 [==============================] - 1s 2ms/step - loss: 0.5538 - accuracy: 0.7385\n",
      "192/192 [==============================] - 0s 1ms/step - loss: 0.4700 - accuracy: 0.7878\n",
      "576/576 [==============================] - 2s 2ms/step - loss: 0.5687 - accuracy: 0.7310\n",
      "192/192 [==============================] - 0s 1ms/step - loss: 0.4777 - accuracy: 0.7736\n",
      "576/576 [==============================] - 1s 1ms/step - loss: 0.5604 - accuracy: 0.7483\n",
      "192/192 [==============================] - 0s 1ms/step - loss: 0.4831 - accuracy: 0.7683\n",
      "576/576 [==============================] - 1s 2ms/step - loss: 0.5526 - accuracy: 0.7525\n",
      "192/192 [==============================] - 0s 1ms/step - loss: 0.5302 - accuracy: 0.7437\n",
      "576/576 [==============================] - 1s 1ms/step - loss: 0.5470 - accuracy: 0.7508\n",
      "192/192 [==============================] - 0s 1ms/step - loss: 0.4856 - accuracy: 0.7668\n",
      "576/576 [==============================] - 1s 1ms/step - loss: 0.5528 - accuracy: 0.7536\n",
      "192/192 [==============================] - 1s 2ms/step - loss: 0.4948 - accuracy: 0.7496\n",
      "576/576 [==============================] - 2s 2ms/step - loss: 0.6091 - accuracy: 0.7290\n",
      "192/192 [==============================] - 1s 2ms/step - loss: 0.4887 - accuracy: 0.7683\n",
      "576/576 [==============================] - 2s 2ms/step - loss: 0.5769 - accuracy: 0.7566\n",
      "192/192 [==============================] - 0s 1ms/step - loss: 0.5158 - accuracy: 0.7432\n",
      "576/576 [==============================] - 2s 2ms/step - loss: 0.6183 - accuracy: 0.7070\n",
      "192/192 [==============================] - 0s 1ms/step - loss: 0.4951 - accuracy: 0.7667\n",
      "576/576 [==============================] - 2s 2ms/step - loss: 0.5891 - accuracy: 0.7323\n",
      "192/192 [==============================] - 1s 2ms/step - loss: 0.4919 - accuracy: 0.7574\n",
      "576/576 [==============================] - 3s 3ms/step - loss: 0.6167 - accuracy: 0.7084\n",
      "192/192 [==============================] - 0s 1ms/step - loss: 0.4876 - accuracy: 0.7683\n",
      "576/576 [==============================] - 2s 3ms/step - loss: 0.5861 - accuracy: 0.7356\n",
      "192/192 [==============================] - 0s 1ms/step - loss: 0.5117 - accuracy: 0.7440\n",
      "576/576 [==============================] - 2s 3ms/step - loss: 0.5985 - accuracy: 0.7326\n",
      "192/192 [==============================] - 1s 2ms/step - loss: 0.4835 - accuracy: 0.7667\n",
      "576/576 [==============================] - 3s 3ms/step - loss: 0.6127 - accuracy: 0.7369\n",
      "192/192 [==============================] - 0s 2ms/step - loss: 0.4994 - accuracy: 0.7483\n",
      "576/576 [==============================] - 2s 3ms/step - loss: 0.5215 - accuracy: 0.7592\n",
      "192/192 [==============================] - 1s 2ms/step - loss: 0.4510 - accuracy: 0.7969\n",
      "576/576 [==============================] - 2s 2ms/step - loss: 0.5009 - accuracy: 0.7675\n",
      "192/192 [==============================] - 1s 2ms/step - loss: 0.5108 - accuracy: 0.7586\n",
      "576/576 [==============================] - 2s 3ms/step - loss: 0.5099 - accuracy: 0.7634\n",
      "192/192 [==============================] - 1s 2ms/step - loss: 0.4802 - accuracy: 0.7799\n",
      "576/576 [==============================] - 2s 2ms/step - loss: 0.5193 - accuracy: 0.7567\n",
      "192/192 [==============================] - 1s 2ms/step - loss: 0.4900 - accuracy: 0.7670\n",
      "576/576 [==============================] - 4s 5ms/step - loss: 0.5276 - accuracy: 0.7538\n",
      "192/192 [==============================] - 1s 2ms/step - loss: 0.4585 - accuracy: 0.7935\n",
      "576/576 [==============================] - 2s 2ms/step - loss: 0.5160 - accuracy: 0.7646\n",
      "192/192 [==============================] - 0s 2ms/step - loss: 0.5272 - accuracy: 0.7563\n",
      "576/576 [==============================] - 4s 5ms/step - loss: 0.5269 - accuracy: 0.7526\n",
      "192/192 [==============================] - 1s 2ms/step - loss: 0.4800 - accuracy: 0.7791\n",
      "576/576 [==============================] - 3s 4ms/step - loss: 0.5258 - accuracy: 0.7556\n",
      "192/192 [==============================] - 1s 2ms/step - loss: 0.4816 - accuracy: 0.7735\n",
      "576/576 [==============================] - 4s 4ms/step - loss: 0.5348 - accuracy: 0.7457\n",
      "192/192 [==============================] - 1s 2ms/step - loss: 0.4590 - accuracy: 0.7993\n",
      "576/576 [==============================] - 2s 3ms/step - loss: 0.5157 - accuracy: 0.7606\n"
     ]
    },
    {
     "name": "stdout",
     "output_type": "stream",
     "text": [
      "192/192 [==============================] - 1s 2ms/step - loss: 0.5170 - accuracy: 0.7578\n",
      "576/576 [==============================] - 2s 2ms/step - loss: 0.5309 - accuracy: 0.7463\n",
      "192/192 [==============================] - 0s 2ms/step - loss: 0.4827 - accuracy: 0.7782\n",
      "576/576 [==============================] - 2s 2ms/step - loss: 0.5211 - accuracy: 0.7597\n",
      "192/192 [==============================] - 0s 2ms/step - loss: 0.4834 - accuracy: 0.7685\n",
      "576/576 [==============================] - 3s 3ms/step - loss: 0.5262 - accuracy: 0.7525\n",
      "192/192 [==============================] - 0s 2ms/step - loss: 0.4586 - accuracy: 0.7860\n",
      "576/576 [==============================] - 2s 2ms/step - loss: 0.5078 - accuracy: 0.7668\n",
      "192/192 [==============================] - 0s 2ms/step - loss: 0.5249 - accuracy: 0.7477\n",
      "576/576 [==============================] - 2s 2ms/step - loss: 0.5244 - accuracy: 0.7541\n",
      "192/192 [==============================] - 0s 2ms/step - loss: 0.4843 - accuracy: 0.7795\n",
      "576/576 [==============================] - 2s 2ms/step - loss: 0.5178 - accuracy: 0.7587\n",
      "192/192 [==============================] - 1s 2ms/step - loss: 0.5010 - accuracy: 0.7627\n",
      "576/576 [==============================] - 3s 3ms/step - loss: 0.5463 - accuracy: 0.7439\n",
      "192/192 [==============================] - 1s 2ms/step - loss: 0.4663 - accuracy: 0.8019\n",
      "576/576 [==============================] - 2s 3ms/step - loss: 0.5250 - accuracy: 0.7594\n",
      "192/192 [==============================] - 1s 2ms/step - loss: 0.5167 - accuracy: 0.7538\n",
      "576/576 [==============================] - 2s 2ms/step - loss: 0.5382 - accuracy: 0.7478\n",
      "192/192 [==============================] - 1s 2ms/step - loss: 0.4845 - accuracy: 0.7817\n",
      "576/576 [==============================] - 3s 4ms/step - loss: 0.5331 - accuracy: 0.7507\n",
      "192/192 [==============================] - 1s 3ms/step - loss: 0.4877 - accuracy: 0.7697: 0s - loss: 0.5015 - accu\n",
      "576/576 [==============================] - 3s 3ms/step - loss: 0.5439 - accuracy: 0.7416: 0s - loss: 0.553\n",
      "192/192 [==============================] - 1s 3ms/step - loss: 0.4596 - accuracy: 0.7956\n",
      "576/576 [==============================] - 5s 6ms/step - loss: 0.5260 - accuracy: 0.7549\n",
      "192/192 [==============================] - 1s 2ms/step - loss: 0.5201 - accuracy: 0.7580\n",
      "576/576 [==============================] - 3s 4ms/step - loss: 0.5394 - accuracy: 0.7521\n",
      "192/192 [==============================] - 3s 14ms/step - loss: 0.4814 - accuracy: 0.7758\n",
      "576/576 [==============================] - 3s 2ms/step - loss: 0.5297 - accuracy: 0.7564\n",
      "192/192 [==============================] - 1s 3ms/step - loss: 0.4855 - accuracy: 0.7679\n",
      "576/576 [==============================] - 2s 3ms/step - loss: 0.5536 - accuracy: 0.7459\n",
      "192/192 [==============================] - 0s 1ms/step - loss: 0.4692 - accuracy: 0.7736\n",
      "576/576 [==============================] - 2s 3ms/step - loss: 0.5476 - accuracy: 0.7575\n",
      "192/192 [==============================] - 2s 5ms/step - loss: 0.5337 - accuracy: 0.7558\n",
      "576/576 [==============================] - 2s 2ms/step - loss: 0.5596 - accuracy: 0.7404\n",
      "192/192 [==============================] - 1s 2ms/step - loss: 0.5020 - accuracy: 0.7667\n",
      "576/576 [==============================] - 2s 3ms/step - loss: 0.5528 - accuracy: 0.7534\n",
      "192/192 [==============================] - 1s 2ms/step - loss: 0.4857 - accuracy: 0.7651\n",
      "576/576 [==============================] - 2s 2ms/step - loss: 0.5981 - accuracy: 0.7130\n",
      "192/192 [==============================] - 0s 1ms/step - loss: 0.4715 - accuracy: 0.7916\n",
      "576/576 [==============================] - 2s 2ms/step - loss: 0.5832 - accuracy: 0.7373\n",
      "192/192 [==============================] - 0s 2ms/step - loss: 0.5208 - accuracy: 0.7539\n",
      "576/576 [==============================] - 3s 2ms/step - loss: 0.5949 - accuracy: 0.7182\n",
      "192/192 [==============================] - 1s 2ms/step - loss: 0.4894 - accuracy: 0.7780\n",
      "576/576 [==============================] - 2s 2ms/step - loss: 0.5830 - accuracy: 0.7233\n",
      "192/192 [==============================] - 0s 2ms/step - loss: 0.4903 - accuracy: 0.7672\n",
      "576/576 [==============================] - 2s 2ms/step - loss: 0.6162 - accuracy: 0.7080\n",
      "192/192 [==============================] - 0s 1ms/step - loss: 0.4725 - accuracy: 0.8001\n",
      "576/576 [==============================] - 2s 2ms/step - loss: 0.6036 - accuracy: 0.7132\n",
      "192/192 [==============================] - 0s 1ms/step - loss: 0.5254 - accuracy: 0.7549\n",
      "576/576 [==============================] - 2s 2ms/step - loss: 0.6268 - accuracy: 0.7015\n",
      "192/192 [==============================] - 1s 5ms/step - loss: 0.4901 - accuracy: 0.7776\n",
      "576/576 [==============================] - 5s 7ms/step - loss: 0.6136 - accuracy: 0.7158\n",
      "192/192 [==============================] - 1s 2ms/step - loss: 0.4909 - accuracy: 0.7645\n",
      "576/576 [==============================] - 4s 5ms/step - loss: 0.5790 - accuracy: 0.7418\n",
      "192/192 [==============================] - 1s 2ms/step - loss: 0.5428 - accuracy: 0.7683\n",
      "576/576 [==============================] - 3s 3ms/step - loss: 0.5599 - accuracy: 0.7575\n",
      "192/192 [==============================] - 0s 1ms/step - loss: 0.5700 - accuracy: 0.7433\n",
      "576/576 [==============================] - 3s 3ms/step - loss: 0.5712 - accuracy: 0.7404\n",
      "192/192 [==============================] - 1s 1ms/step - loss: 0.5443 - accuracy: 0.7667\n",
      "576/576 [==============================] - 2s 3ms/step - loss: 0.5657 - accuracy: 0.7516\n",
      "192/192 [==============================] - 1s 2ms/step - loss: 0.5641 - accuracy: 0.7483\n",
      "576/576 [==============================] - 3s 2ms/step - loss: 0.5632 - accuracy: 0.7504\n",
      "192/192 [==============================] - 0s 1ms/step - loss: 0.4793 - accuracy: 0.7705\n",
      "576/576 [==============================] - 3s 3ms/step - loss: 0.5651 - accuracy: 0.7449\n",
      "192/192 [==============================] - 0s 1ms/step - loss: 0.5273 - accuracy: 0.7430\n",
      "576/576 [==============================] - 2s 2ms/step - loss: 0.5699 - accuracy: 0.7443\n",
      "192/192 [==============================] - 1s 2ms/step - loss: 0.4950 - accuracy: 0.7742\n",
      "576/576 [==============================] - 2s 2ms/step - loss: 0.5655 - accuracy: 0.7539\n",
      "192/192 [==============================] - 1s 3ms/step - loss: 0.5154 - accuracy: 0.7483\n",
      "576/576 [==============================] - 3s 3ms/step - loss: 0.6047 - accuracy: 0.6937\n",
      "192/192 [==============================] - 1s 2ms/step - loss: 0.4998 - accuracy: 0.7683\n",
      "576/576 [==============================] - 2s 3ms/step - loss: 0.5785 - accuracy: 0.7221\n",
      "192/192 [==============================] - 1s 3ms/step - loss: 0.5312 - accuracy: 0.7433\n",
      "576/576 [==============================] - 3s 3ms/step - loss: 0.5753 - accuracy: 0.7360\n",
      "192/192 [==============================] - 1s 2ms/step - loss: 0.4956 - accuracy: 0.7718\n",
      "576/576 [==============================] - 4s 5ms/step - loss: 0.6080 - accuracy: 0.6865\n",
      "192/192 [==============================] - 1s 5ms/step - loss: 0.5319 - accuracy: 0.7483\n",
      "576/576 [==============================] - 3s 2ms/step - loss: 0.5783 - accuracy: 0.7424\n",
      "192/192 [==============================] - 1s 4ms/step - loss: 0.5427 - accuracy: 0.7683\n",
      "576/576 [==============================] - 2s 2ms/step - loss: 0.5625 - accuracy: 0.7523\n",
      "192/192 [==============================] - 1s 2ms/step - loss: 0.5720 - accuracy: 0.7433\n",
      "576/576 [==============================] - 2s 3ms/step - loss: 0.5675 - accuracy: 0.7516\n",
      "192/192 [==============================] - 1s 2ms/step - loss: 0.5446 - accuracy: 0.7667\n",
      "576/576 [==============================] - 2s 3ms/step - loss: 0.5618 - accuracy: 0.7546\n",
      "192/192 [==============================] - 1s 2ms/step - loss: 0.5637 - accuracy: 0.7483\n",
      "576/576 [==============================] - 3s 3ms/step - loss: 0.5898 - accuracy: 0.7306\n",
      "192/192 [==============================] - 1s 2ms/step - loss: 0.5012 - accuracy: 0.7683\n",
      "576/576 [==============================] - 4s 4ms/step - loss: 0.5656 - accuracy: 0.7495\n",
      "192/192 [==============================] - 1s 3ms/step - loss: 0.5341 - accuracy: 0.7433\n",
      "576/576 [==============================] - 2s 2ms/step - loss: 0.5926 - accuracy: 0.7172\n",
      "192/192 [==============================] - 0s 2ms/step - loss: 0.5134 - accuracy: 0.7667\n"
     ]
    },
    {
     "name": "stdout",
     "output_type": "stream",
     "text": [
      "576/576 [==============================] - 2s 2ms/step - loss: 0.5794 - accuracy: 0.7336\n",
      "192/192 [==============================] - 0s 1ms/step - loss: 0.5241 - accuracy: 0.7483\n",
      "576/576 [==============================] - 2s 2ms/step - loss: 0.6075 - accuracy: 0.7125\n",
      "192/192 [==============================] - 0s 1ms/step - loss: 0.5073 - accuracy: 0.7683\n",
      "576/576 [==============================] - 3s 3ms/step - loss: 0.6472 - accuracy: 0.6477: 0s - loss: 0.6512 - accuracy: 0.\n",
      "192/192 [==============================] - 1s 2ms/step - loss: 0.5653 - accuracy: 0.7433\n",
      "576/576 [==============================] - 2s 2ms/step - loss: 0.6340 - accuracy: 0.6703\n",
      "192/192 [==============================] - 1s 6ms/step - loss: 0.5311 - accuracy: 0.7667\n",
      "576/576 [==============================] - 3s 4ms/step - loss: 0.6014 - accuracy: 0.7209\n",
      "192/192 [==============================] - 1s 3ms/step - loss: 0.5237 - accuracy: 0.7483\n",
      "576/576 [==============================] - 3s 4ms/step - loss: 0.5809 - accuracy: 0.7418\n",
      "192/192 [==============================] - 0s 1ms/step - loss: 0.5437 - accuracy: 0.7683\n",
      "576/576 [==============================] - 2s 2ms/step - loss: 0.5621 - accuracy: 0.7589\n",
      "192/192 [==============================] - 1s 2ms/step - loss: 0.5700 - accuracy: 0.7433\n",
      "576/576 [==============================] - 2s 3ms/step - loss: 0.5715 - accuracy: 0.7479\n",
      "192/192 [==============================] - 0s 2ms/step - loss: 0.5511 - accuracy: 0.7667\n",
      "576/576 [==============================] - 3s 4ms/step - loss: 0.5699 - accuracy: 0.7505: 0s - loss: 0.5715 - accuracy\n",
      "192/192 [==============================] - 1s 2ms/step - loss: 0.5653 - accuracy: 0.7483\n",
      "576/576 [==============================] - 2s 2ms/step - loss: 0.6346 - accuracy: 0.6910\n",
      "192/192 [==============================] - 0s 2ms/step - loss: 0.5404 - accuracy: 0.7683\n",
      "576/576 [==============================] - 2s 2ms/step - loss: 0.6206 - accuracy: 0.7054\n",
      "192/192 [==============================] - 0s 1ms/step - loss: 0.5625 - accuracy: 0.7433\n",
      "576/576 [==============================] - 4s 5ms/step - loss: 0.7200 - accuracy: 0.6186\n",
      "192/192 [==============================] - 1s 2ms/step - loss: 0.5458 - accuracy: 0.7667\n",
      "576/576 [==============================] - 2s 2ms/step - loss: 0.7132 - accuracy: 0.6271\n",
      "192/192 [==============================] - 0s 2ms/step - loss: 0.5595 - accuracy: 0.7483\n",
      "576/576 [==============================] - 4s 5ms/step - loss: 0.6837 - accuracy: 0.6496\n",
      "192/192 [==============================] - 1s 3ms/step - loss: 0.5445 - accuracy: 0.7683\n",
      "576/576 [==============================] - 3s 4ms/step - loss: 0.6035 - accuracy: 0.7221\n",
      "192/192 [==============================] - 1s 2ms/step - loss: 0.5677 - accuracy: 0.7433\n",
      "576/576 [==============================] - 4s 4ms/step - loss: 0.6189 - accuracy: 0.6961\n",
      "192/192 [==============================] - 1s 3ms/step - loss: 0.5445 - accuracy: 0.7667\n",
      "576/576 [==============================] - 3s 3ms/step - loss: 0.6474 - accuracy: 0.6744\n",
      "192/192 [==============================] - 2s 5ms/step - loss: 0.5671 - accuracy: 0.7483\n",
      "768/768 [==============================] - 3s 4ms/step - loss: 0.5081 - accuracy: 0.7570\n",
      "Best: 0.796875 using {'activation': 'relu', 'dropout_rate': 0.2, 'optimizer': <tensorflow.python.keras.optimizer_v2.gradient_descent.SGD object at 0x7f8c76e73320>}\n",
      "0.796875 (0.014419) with: {'activation': 'relu', 'dropout_rate': 0.2, 'optimizer': <tensorflow.python.keras.optimizer_v2.gradient_descent.SGD object at 0x7f8c76e73320>}\n",
      "0.779844 (0.014875) with: {'activation': 'relu', 'dropout_rate': 0.2, 'optimizer': 'RMSprop'}\n",
      "0.780156 (0.012103) with: {'activation': 'relu', 'dropout_rate': 0.2, 'optimizer': 'Adam'}\n",
      "0.795547 (0.012049) with: {'activation': 'relu', 'dropout_rate': 0.4, 'optimizer': <tensorflow.python.keras.optimizer_v2.gradient_descent.SGD object at 0x7f8c76e73320>}\n",
      "0.779167 (0.015300) with: {'activation': 'relu', 'dropout_rate': 0.4, 'optimizer': 'RMSprop'}\n",
      "0.775052 (0.010259) with: {'activation': 'relu', 'dropout_rate': 0.4, 'optimizer': 'Adam'}\n",
      "0.757109 (0.010659) with: {'activation': 'relu', 'dropout_rate': 0.8, 'optimizer': <tensorflow.python.keras.optimizer_v2.gradient_descent.SGD object at 0x7f8c76e73320>}\n",
      "0.758906 (0.009964) with: {'activation': 'relu', 'dropout_rate': 0.8, 'optimizer': 'RMSprop'}\n",
      "0.756823 (0.010805) with: {'activation': 'relu', 'dropout_rate': 0.8, 'optimizer': 'Adam'}\n",
      "0.775599 (0.014430) with: {'activation': 'elu', 'dropout_rate': 0.2, 'optimizer': <tensorflow.python.keras.optimizer_v2.gradient_descent.SGD object at 0x7f8c76e73320>}\n",
      "0.775599 (0.013347) with: {'activation': 'elu', 'dropout_rate': 0.2, 'optimizer': 'RMSprop'}\n",
      "0.775964 (0.015272) with: {'activation': 'elu', 'dropout_rate': 0.2, 'optimizer': 'Adam'}\n",
      "0.768984 (0.014943) with: {'activation': 'elu', 'dropout_rate': 0.4, 'optimizer': <tensorflow.python.keras.optimizer_v2.gradient_descent.SGD object at 0x7f8c76e73320>}\n",
      "0.776745 (0.017566) with: {'activation': 'elu', 'dropout_rate': 0.4, 'optimizer': 'RMSprop'}\n",
      "0.774349 (0.013810) with: {'activation': 'elu', 'dropout_rate': 0.4, 'optimizer': 'Adam'}\n",
      "0.765312 (0.006348) with: {'activation': 'elu', 'dropout_rate': 0.8, 'optimizer': <tensorflow.python.keras.optimizer_v2.gradient_descent.SGD object at 0x7f8c76e73320>}\n",
      "0.772656 (0.013871) with: {'activation': 'elu', 'dropout_rate': 0.8, 'optimizer': 'RMSprop'}\n",
      "0.774271 (0.016954) with: {'activation': 'elu', 'dropout_rate': 0.8, 'optimizer': 'Adam'}\n",
      "0.756667 (0.010992) with: {'activation': 'sigmoid', 'dropout_rate': 0.2, 'optimizer': <tensorflow.python.keras.optimizer_v2.gradient_descent.SGD object at 0x7f8c76e73320>}\n",
      "0.759010 (0.013527) with: {'activation': 'sigmoid', 'dropout_rate': 0.2, 'optimizer': 'RMSprop'}\n",
      "0.757943 (0.012298) with: {'activation': 'sigmoid', 'dropout_rate': 0.2, 'optimizer': 'Adam'}\n",
      "0.756667 (0.010992) with: {'activation': 'sigmoid', 'dropout_rate': 0.4, 'optimizer': <tensorflow.python.keras.optimizer_v2.gradient_descent.SGD object at 0x7f8c76e73320>}\n",
      "0.756667 (0.010992) with: {'activation': 'sigmoid', 'dropout_rate': 0.4, 'optimizer': 'RMSprop'}\n",
      "0.756667 (0.010992) with: {'activation': 'sigmoid', 'dropout_rate': 0.4, 'optimizer': 'Adam'}\n",
      "0.756667 (0.010992) with: {'activation': 'sigmoid', 'dropout_rate': 0.8, 'optimizer': <tensorflow.python.keras.optimizer_v2.gradient_descent.SGD object at 0x7f8c76e73320>}\n",
      "0.756667 (0.010992) with: {'activation': 'sigmoid', 'dropout_rate': 0.8, 'optimizer': 'RMSprop'}\n",
      "0.756667 (0.010992) with: {'activation': 'sigmoid', 'dropout_rate': 0.8, 'optimizer': 'Adam'}\n"
     ]
    }
   ],
   "source": [
    "from sklearn.model_selection import GridSearchCV\n",
    "from keras.wrappers.scikit_learn import KerasClassifier\n",
    "\n",
    "# call Keras scikit wrapper\n",
    "model_gridsearch = KerasClassifier(build_fn=compile_model, \n",
    "                                   epochs=1, \n",
    "                                   batch_size=50, \n",
    "                                   verbose=1)\n",
    "\n",
    "# list of allowed optional arguments for the optimizer, see compile_model()\n",
    "#optimizer = ['SGD', 'RMSprop', 'Adagrad', 'Adadelta', 'Adam', 'Adamax', 'Nadam']\n",
    "optimizer = [opt1,'RMSprop', 'Adam'] #opt1 = SGD(learning_rate=0.1, momentum=0.9, nesterov=True) \n",
    "#activation = [\"relu\",\"elu\",\"sigmoid\",\"tanh\"]\n",
    "activation = [\"relu\",\"elu\",\"sigmoid\"]\n",
    "#dropout_rate = [0,0.1,0.2,0.4,0.8]\n",
    "dropout_rate = [0.2,0.4,0.8]\n",
    "# define parameter dictionary\n",
    "param_grid = dict(optimizer=optimizer,activation=activation,dropout_rate=dropout_rate)\n",
    "# call scikit grid search module\n",
    "grid = GridSearchCV(estimator=model_gridsearch, param_grid=param_grid, n_jobs=1, cv=4)\n",
    "grid_result = grid.fit(new_x_train,new_y_train)\n",
    "\n",
    "# summarize results\n",
    "print(\"Best: %f using %s\" % (grid_result.best_score_, grid_result.best_params_))\n",
    "means = grid_result.cv_results_['mean_test_score']\n",
    "stds = grid_result.cv_results_['std_test_score']\n",
    "params = grid_result.cv_results_['params']\n",
    "for mean, stdev, param in zip(means, stds, params) :\n",
    "    print(\"%f (%f) with: %r\" % (mean, stdev, param))"
   ]
  },
  {
   "cell_type": "code",
   "execution_count": 24,
   "metadata": {},
   "outputs": [
    {
     "name": "stdout",
     "output_type": "stream",
     "text": [
      "Epoch 1/30\n",
      "768/768 [==============================] - 3s 3ms/step - loss: 0.5054 - accuracy: 0.7679 - val_loss: 0.9004 - val_accuracy: 0.7650\n",
      "Epoch 2/30\n",
      "768/768 [==============================] - 4s 5ms/step - loss: 0.3778 - accuracy: 0.8333 - val_loss: 1.3345 - val_accuracy: 0.7417\n",
      "Epoch 3/30\n",
      "768/768 [==============================] - 3s 4ms/step - loss: 0.3105 - accuracy: 0.8726 - val_loss: 1.7184 - val_accuracy: 0.7433\n",
      "Epoch 4/30\n",
      "768/768 [==============================] - 2s 3ms/step - loss: 0.2773 - accuracy: 0.8923 - val_loss: 1.5354 - val_accuracy: 0.7417\n",
      "Epoch 5/30\n",
      "768/768 [==============================] - 1s 2ms/step - loss: 0.2464 - accuracy: 0.9119 - val_loss: 1.9946 - val_accuracy: 0.7417\n",
      "Epoch 6/30\n",
      "768/768 [==============================] - 2s 2ms/step - loss: 0.2077 - accuracy: 0.9306 - val_loss: 1.6310 - val_accuracy: 0.7417\n",
      "Epoch 7/30\n",
      "768/768 [==============================] - 2s 3ms/step - loss: 0.1821 - accuracy: 0.9423 - val_loss: 3.2432 - val_accuracy: 0.7417\n",
      "Epoch 8/30\n",
      "768/768 [==============================] - 2s 2ms/step - loss: 0.1669 - accuracy: 0.9480 - val_loss: 4.6302 - val_accuracy: 0.7417\n",
      "Epoch 9/30\n",
      "768/768 [==============================] - 2s 3ms/step - loss: 0.1595 - accuracy: 0.9487 - val_loss: 5.1911 - val_accuracy: 0.7417\n",
      "Epoch 10/30\n",
      "768/768 [==============================] - 2s 2ms/step - loss: 0.1508 - accuracy: 0.9510 - val_loss: 6.2347 - val_accuracy: 0.7417\n",
      "Epoch 11/30\n",
      "768/768 [==============================] - 2s 2ms/step - loss: 0.1536 - accuracy: 0.9500 - val_loss: 5.9579 - val_accuracy: 0.7417\n",
      "Epoch 12/30\n",
      "768/768 [==============================] - 2s 2ms/step - loss: 0.1524 - accuracy: 0.9496 - val_loss: 9.5051 - val_accuracy: 0.7417\n",
      "Epoch 13/30\n",
      "768/768 [==============================] - 2s 2ms/step - loss: 0.1522 - accuracy: 0.9490 - val_loss: 10.5997 - val_accuracy: 0.7417\n",
      "Epoch 14/30\n",
      "768/768 [==============================] - 2s 2ms/step - loss: 0.1508 - accuracy: 0.9494 - val_loss: 7.0534 - val_accuracy: 0.7417\n",
      "Epoch 15/30\n",
      "768/768 [==============================] - 2s 2ms/step - loss: 0.1425 - accuracy: 0.9526 - val_loss: 11.0959 - val_accuracy: 0.7417\n",
      "Epoch 16/30\n",
      "768/768 [==============================] - 2s 2ms/step - loss: 0.1429 - accuracy: 0.9517 - val_loss: 8.6820 - val_accuracy: 0.7417\n",
      "Epoch 17/30\n",
      "768/768 [==============================] - 2s 2ms/step - loss: 0.1354 - accuracy: 0.9555 - val_loss: 11.1683 - val_accuracy: 0.7417\n",
      "Epoch 18/30\n",
      "768/768 [==============================] - 3s 4ms/step - loss: 0.1411 - accuracy: 0.9527 - val_loss: 13.7838 - val_accuracy: 0.7417\n",
      "Epoch 19/30\n",
      "768/768 [==============================] - 2s 3ms/step - loss: 0.1379 - accuracy: 0.9530 - val_loss: 17.0556 - val_accuracy: 0.7417\n",
      "Epoch 20/30\n",
      "768/768 [==============================] - 2s 3ms/step - loss: 0.1340 - accuracy: 0.9547 - val_loss: 13.6873 - val_accuracy: 0.7417\n",
      "Epoch 21/30\n",
      "768/768 [==============================] - 2s 3ms/step - loss: 0.1351 - accuracy: 0.9538 - val_loss: 9.4990 - val_accuracy: 0.7417\n",
      "Epoch 22/30\n",
      "768/768 [==============================] - 2s 2ms/step - loss: 0.1361 - accuracy: 0.9526 - val_loss: 18.5857 - val_accuracy: 0.7417\n",
      "Epoch 23/30\n",
      "768/768 [==============================] - 2s 3ms/step - loss: 0.1346 - accuracy: 0.9540 - val_loss: 16.0053 - val_accuracy: 0.7417\n",
      "Epoch 24/30\n",
      "768/768 [==============================] - 3s 4ms/step - loss: 0.1305 - accuracy: 0.9554 - val_loss: 17.1522 - val_accuracy: 0.7417\n",
      "Epoch 25/30\n",
      "768/768 [==============================] - 2s 3ms/step - loss: 0.1287 - accuracy: 0.9554 - val_loss: 18.1277 - val_accuracy: 0.7417\n",
      "Epoch 26/30\n",
      "768/768 [==============================] - 3s 4ms/step - loss: 0.1293 - accuracy: 0.9548 - val_loss: 13.9615 - val_accuracy: 0.7417\n",
      "Epoch 27/30\n",
      "768/768 [==============================] - 2s 2ms/step - loss: 0.1292 - accuracy: 0.9554 - val_loss: 16.8480 - val_accuracy: 0.7417\n",
      "Epoch 28/30\n",
      "768/768 [==============================] - 2s 2ms/step - loss: 0.1282 - accuracy: 0.9561 - val_loss: 24.9920 - val_accuracy: 0.7417\n",
      "Epoch 29/30\n",
      "768/768 [==============================] - 2s 2ms/step - loss: 0.1305 - accuracy: 0.9546 - val_loss: 21.5363 - val_accuracy: 0.7417\n",
      "Epoch 30/30\n",
      "768/768 [==============================] - 2s 2ms/step - loss: 0.1286 - accuracy: 0.9539 - val_loss: 15.3429 - val_accuracy: 0.7417\n"
     ]
    }
   ],
   "source": [
    "act = grid_result.best_params_[\"activation\"]\n",
    "drop = grid_result.best_params_[\"dropout_rate\"]\n",
    "opt = grid_result.best_params_[\"optimizer\"]\n",
    "\n",
    "best_model = compile_model(activation=act,dropout_rate=drop,optimizer=opt)\n",
    "fit_best = best_model.fit(new_x_train, new_y_train, \n",
    "                          epochs=30, batch_size=50,\n",
    "                          validation_data=(x_test,y_test),\n",
    "                          shuffle=True)"
   ]
  },
  {
   "cell_type": "code",
   "execution_count": 25,
   "metadata": {},
   "outputs": [
    {
     "name": "stdout",
     "output_type": "stream",
     "text": [
      "19/19 [==============================] - 1s 6ms/step - loss: 15.3429 - accuracy: 0.7417\n",
      "\n",
      "Test loss: 15.342918395996094\n",
      "Test accuracy: 0.7416666746139526\n"
     ]
    },
    {
     "data": {
      "image/png": "[encoded data removed]",
      "text/plain": [
       "<Figure size 432x288 with 1 Axes>"
      ]
     },
     "metadata": {
      "needs_background": "light"
     },
     "output_type": "display_data"
    },
    {
     "data": {
      "image/png": "[encoded data removed]",
      "text/plain": [
       "<Figure size 432x288 with 1 Axes>"
      ]
     },
     "metadata": {
      "needs_background": "light"
     },
     "output_type": "display_data"
    }
   ],
   "source": [
    "#Plot the results\n",
    "\n",
    "score_best = best_model.evaluate(x_test, y_test, verbose=1)\n",
    "\n",
    "# print performance\n",
    "print()\n",
    "print('Test loss:', score_best[0])\n",
    "print('Test accuracy:', score_best[1])\n",
    "# look into training history\n",
    "\n",
    "# summarize history for accuracy\n",
    "plt.plot(fit_best.history['accuracy'])\n",
    "plt.plot(fit_best.history['val_accuracy'])\n",
    "plt.ylabel('model accuracy')\n",
    "plt.xlabel('epoch')\n",
    "plt.legend(['train', 'test'], loc='best')\n",
    "plt.show()\n",
    "\n",
    "# summarize history for loss\n",
    "plt.plot(fit_best.history['loss'])\n",
    "plt.plot(fit_best.history['val_loss'])\n",
    "plt.ylabel('model loss')\n",
    "plt.xlabel('epoch')\n",
    "plt.legend(['train', 'test'], loc='best')\n",
    "plt.show()"
   ]
  },
  {
   "cell_type": "code",
   "execution_count": null,
   "metadata": {},
   "outputs": [],
   "source": []
  }
 ],
 "metadata": {
  "kernelspec": {
   "display_name": "Python 3",
   "language": "python",
   "name": "python3"
  },
  "language_info": {
   "codemirror_mode": {
    "name": "ipython",
    "version": 3
   },
   "file_extension": ".py",
   "mimetype": "text/x-python",
   "name": "python",
   "nbconvert_exporter": "python",
   "pygments_lexer": "ipython3",
   "version": "3.7.3"
  }
 },
 "nbformat": 4,
 "nbformat_minor": 4
}
